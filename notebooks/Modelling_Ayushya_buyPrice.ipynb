{
 "cells": [
  {
   "cell_type": "code",
   "execution_count": 1,
   "metadata": {},
   "outputs": [],
   "source": [
    "# Import necessary libraries\n",
    "import pandas as pd\n",
    "import numpy as np\n",
    "\n",
    "# Visualizationdf_e.shape\n",
    "import seaborn as sns\n",
    "import matplotlib.pyplot as plt\n",
    "plt.style.use(\"fivethirtyeight\")\n",
    "\n",
    "from sklearn.model_selection import train_test_split\n",
    "from sklearn.compose import ColumnTransformer\n",
    "from sklearn.pipeline import Pipeline\n",
    "from sklearn.preprocessing import StandardScaler, OneHotEncoder\n",
    "from sklearn.linear_model import LinearRegression, Ridge, Lasso\n",
    "from sklearn.ensemble import RandomForestRegressor, GradientBoostingRegressor\n",
    "from sklearn.metrics import mean_squared_error, r2_score\n",
    "\n"
   ]
  },
  {
   "cell_type": "code",
   "execution_count": 2,
   "metadata": {},
   "outputs": [],
   "source": [
    "import warnings\n",
    "warnings.filterwarnings(\"ignore\")"
   ]
  },
  {
   "cell_type": "code",
   "execution_count": 3,
   "metadata": {},
   "outputs": [],
   "source": [
    "# Load the dataset\n",
    "#df_n = pd.read_csv('../data/processed/cleaned_data_Namrata_NAN.csv')\n",
    "df_e = pd.read_csv('../data/raw/houses_Madrid.csv')\n",
    "\n"
   ]
  },
  {
   "cell_type": "code",
   "execution_count": 4,
   "metadata": {},
   "outputs": [
    {
     "data": {
      "text/plain": [
       "Index(['Unnamed: 0', 'id', 'title', 'subtitle', 'sq_mt_built', 'sq_mt_useful',\n",
       "       'n_rooms', 'n_bathrooms', 'n_floors', 'sq_mt_allotment', 'latitude',\n",
       "       'longitude', 'raw_address', 'is_exact_address_hidden', 'street_name',\n",
       "       'street_number', 'portal', 'floor', 'is_floor_under', 'door',\n",
       "       'neighborhood_id', 'operation', 'rent_price', 'rent_price_by_area',\n",
       "       'is_rent_price_known', 'buy_price', 'buy_price_by_area',\n",
       "       'is_buy_price_known', 'house_type_id', 'is_renewal_needed',\n",
       "       'is_new_development', 'built_year', 'has_central_heating',\n",
       "       'has_individual_heating', 'are_pets_allowed', 'has_ac',\n",
       "       'has_fitted_wardrobes', 'has_lift', 'is_exterior', 'has_garden',\n",
       "       'has_pool', 'has_terrace', 'has_balcony', 'has_storage_room',\n",
       "       'is_furnished', 'is_kitchen_equipped', 'is_accessible',\n",
       "       'has_green_zones', 'energy_certificate', 'has_parking',\n",
       "       'has_private_parking', 'has_public_parking',\n",
       "       'is_parking_included_in_price', 'parking_price', 'is_orientation_north',\n",
       "       'is_orientation_west', 'is_orientation_south', 'is_orientation_east'],\n",
       "      dtype='object')"
      ]
     },
     "execution_count": 4,
     "metadata": {},
     "output_type": "execute_result"
    }
   ],
   "source": [
    "df_e.columns"
   ]
  },
  {
   "cell_type": "code",
   "execution_count": 5,
   "metadata": {},
   "outputs": [],
   "source": [
    "df_ = df_e[['sq_mt_built','n_rooms', 'n_bathrooms', 'floor', 'buy_price', 'is_renewal_needed',\n",
    "       'built_year', 'has_lift', 'is_exterior', 'neighborhood_id']]"
   ]
  },
  {
   "cell_type": "code",
   "execution_count": 6,
   "metadata": {},
   "outputs": [],
   "source": [
    " # get neightbourhood and district column\n",
    "chop = df_['neighborhood_id'].str.extract(r'Neighborhood (\\d+): (.*?) \\(.*\\) - District (\\d+): (.*)')\n",
    "df_['neighbourhood']= chop[1]+ ' ' +chop[0]\n",
    "df_['district']= chop[3] + ' ' + chop[2]"
   ]
  },
  {
   "cell_type": "code",
   "execution_count": 7,
   "metadata": {},
   "outputs": [],
   "source": [
    "df_.drop(columns=['neighborhood_id','neighbourhood'],inplace=True)"
   ]
  },
  {
   "cell_type": "code",
   "execution_count": 8,
   "metadata": {},
   "outputs": [
    {
     "data": {
      "text/html": [
       "<div>\n",
       "<style scoped>\n",
       "    .dataframe tbody tr th:only-of-type {\n",
       "        vertical-align: middle;\n",
       "    }\n",
       "\n",
       "    .dataframe tbody tr th {\n",
       "        vertical-align: top;\n",
       "    }\n",
       "\n",
       "    .dataframe thead th {\n",
       "        text-align: right;\n",
       "    }\n",
       "</style>\n",
       "<table border=\"1\" class=\"dataframe\">\n",
       "  <thead>\n",
       "    <tr style=\"text-align: right;\">\n",
       "      <th></th>\n",
       "      <th>sq_mt_built</th>\n",
       "      <th>n_rooms</th>\n",
       "      <th>n_bathrooms</th>\n",
       "      <th>floor</th>\n",
       "      <th>buy_price</th>\n",
       "      <th>is_renewal_needed</th>\n",
       "      <th>built_year</th>\n",
       "      <th>has_lift</th>\n",
       "      <th>is_exterior</th>\n",
       "      <th>district</th>\n",
       "    </tr>\n",
       "  </thead>\n",
       "  <tbody>\n",
       "    <tr>\n",
       "      <th>0</th>\n",
       "      <td>64.0</td>\n",
       "      <td>2</td>\n",
       "      <td>1.0</td>\n",
       "      <td>3</td>\n",
       "      <td>85000</td>\n",
       "      <td>False</td>\n",
       "      <td>1960.0</td>\n",
       "      <td>False</td>\n",
       "      <td>True</td>\n",
       "      <td>Villaverde 21</td>\n",
       "    </tr>\n",
       "    <tr>\n",
       "      <th>1</th>\n",
       "      <td>70.0</td>\n",
       "      <td>3</td>\n",
       "      <td>1.0</td>\n",
       "      <td>4</td>\n",
       "      <td>129900</td>\n",
       "      <td>True</td>\n",
       "      <td>NaN</td>\n",
       "      <td>True</td>\n",
       "      <td>True</td>\n",
       "      <td>Villaverde 21</td>\n",
       "    </tr>\n",
       "  </tbody>\n",
       "</table>\n",
       "</div>"
      ],
      "text/plain": [
       "   sq_mt_built  n_rooms  n_bathrooms floor  buy_price  is_renewal_needed  \\\n",
       "0         64.0        2          1.0     3      85000              False   \n",
       "1         70.0        3          1.0     4     129900               True   \n",
       "\n",
       "   built_year has_lift is_exterior       district  \n",
       "0      1960.0    False        True  Villaverde 21  \n",
       "1         NaN     True        True  Villaverde 21  "
      ]
     },
     "execution_count": 8,
     "metadata": {},
     "output_type": "execute_result"
    }
   ],
   "source": [
    "df_.head(2)"
   ]
  },
  {
   "cell_type": "code",
   "execution_count": 9,
   "metadata": {},
   "outputs": [
    {
     "data": {
      "text/plain": [
       "buy_price      1.000000\n",
       "sq_mt_built    0.832039\n",
       "n_bathrooms    0.772218\n",
       "n_rooms        0.608893\n",
       "built_year     0.008514\n",
       "Name: buy_price, dtype: float64"
      ]
     },
     "execution_count": 9,
     "metadata": {},
     "output_type": "execute_result"
    }
   ],
   "source": [
    "# Correlation heatmap\n",
    "numeric_cols = df_.select_dtypes(include=[np.number]).columns#\n",
    "\n",
    "df_[numeric_cols].corr()['buy_price'].sort_values(ascending=False)"
   ]
  },
  {
   "cell_type": "markdown",
   "metadata": {},
   "source": [
    "#### Data Cleaning"
   ]
  },
  {
   "cell_type": "code",
   "execution_count": 10,
   "metadata": {},
   "outputs": [
    {
     "data": {
      "text/plain": [
       "0        False\n",
       "1        False\n",
       "2        False\n",
       "3        False\n",
       "4        False\n",
       "         ...  \n",
       "21737    False\n",
       "21738    False\n",
       "21739    False\n",
       "21740    False\n",
       "21741    False\n",
       "Length: 21742, dtype: bool"
      ]
     },
     "execution_count": 10,
     "metadata": {},
     "output_type": "execute_result"
    }
   ],
   "source": [
    "df_.duplicated()"
   ]
  },
  {
   "cell_type": "code",
   "execution_count": 11,
   "metadata": {},
   "outputs": [],
   "source": [
    "df_without_duplicates = df_.drop_duplicates()"
   ]
  },
  {
   "cell_type": "code",
   "execution_count": 12,
   "metadata": {},
   "outputs": [
    {
     "data": {
      "text/plain": [
       "sq_mt_built            115\n",
       "n_rooms                  0\n",
       "n_bathrooms             16\n",
       "floor                 2477\n",
       "buy_price                0\n",
       "is_renewal_needed        0\n",
       "built_year           11084\n",
       "has_lift              2249\n",
       "is_exterior           2888\n",
       "district                 0\n",
       "dtype: int64"
      ]
     },
     "execution_count": 12,
     "metadata": {},
     "output_type": "execute_result"
    }
   ],
   "source": [
    "df_without_duplicates.isna().sum()"
   ]
  },
  {
   "cell_type": "code",
   "execution_count": 13,
   "metadata": {},
   "outputs": [],
   "source": [
    "mean_year = df_without_duplicates['built_year'].mean()\n",
    "round(mean_year)\n",
    "df_without_duplicates['built_year'].fillna(round(mean_year), inplace=True)"
   ]
  },
  {
   "cell_type": "code",
   "execution_count": 14,
   "metadata": {},
   "outputs": [
    {
     "data": {
      "text/plain": [
       "sq_mt_built           115\n",
       "n_rooms                 0\n",
       "n_bathrooms            16\n",
       "floor                2477\n",
       "buy_price               0\n",
       "is_renewal_needed       0\n",
       "built_year              0\n",
       "has_lift             2249\n",
       "is_exterior          2888\n",
       "district                0\n",
       "dtype: int64"
      ]
     },
     "execution_count": 14,
     "metadata": {},
     "output_type": "execute_result"
    }
   ],
   "source": [
    "df_without_duplicates.isna().sum()"
   ]
  },
  {
   "cell_type": "code",
   "execution_count": 15,
   "metadata": {},
   "outputs": [],
   "source": [
    "df_without_duplicates_without_na = df_without_duplicates.dropna()"
   ]
  },
  {
   "cell_type": "code",
   "execution_count": 16,
   "metadata": {},
   "outputs": [
    {
     "data": {
      "text/plain": [
       "sq_mt_built          0\n",
       "n_rooms              0\n",
       "n_bathrooms          0\n",
       "floor                0\n",
       "buy_price            0\n",
       "is_renewal_needed    0\n",
       "built_year           0\n",
       "has_lift             0\n",
       "is_exterior          0\n",
       "district             0\n",
       "dtype: int64"
      ]
     },
     "execution_count": 16,
     "metadata": {},
     "output_type": "execute_result"
    }
   ],
   "source": [
    "df_without_duplicates_without_na.isna().sum()"
   ]
  },
  {
   "cell_type": "code",
   "execution_count": 17,
   "metadata": {},
   "outputs": [],
   "source": [
    "df = df_without_duplicates_without_na"
   ]
  },
  {
   "cell_type": "code",
   "execution_count": 18,
   "metadata": {},
   "outputs": [
    {
     "data": {
      "text/plain": [
       "<Axes: xlabel='buy_price', ylabel='Count'>"
      ]
     },
     "execution_count": 18,
     "metadata": {},
     "output_type": "execute_result"
    },
    {
     "data": {
      "image/png": "[encoded data removed]",
      "text/plain": [
       "<Figure size 640x480 with 1 Axes>"
      ]
     },
     "metadata": {},
     "output_type": "display_data"
    }
   ],
   "source": [
    "sns.histplot(df['buy_price'],kde = True,bins=50)"
   ]
  },
  {
   "cell_type": "code",
   "execution_count": 19,
   "metadata": {},
   "outputs": [],
   "source": [
    "# This distribution is skewed - this can be improved to make it more normally distributed"
   ]
  },
  {
   "cell_type": "code",
   "execution_count": 20,
   "metadata": {},
   "outputs": [
    {
     "data": {
      "text/plain": [
       "<Axes: xlabel='buy_price', ylabel='Count'>"
      ]
     },
     "execution_count": 20,
     "metadata": {},
     "output_type": "execute_result"
    },
    {
     "data": {
      "image/png": "[encoded data removed]",
      "text/plain": [
       "<Figure size 640x480 with 1 Axes>"
      ]
     },
     "metadata": {},
     "output_type": "display_data"
    }
   ],
   "source": [
    "q = df['buy_price'].quantile(0.90)\n",
    "\n",
    "df = df[df['buy_price']<q]\n",
    "\n",
    "sns.histplot(df['buy_price'],kde = True,bins=50)"
   ]
  },
  {
   "cell_type": "code",
   "execution_count": 21,
   "metadata": {},
   "outputs": [
    {
     "data": {
      "text/plain": [
       "built_year\n",
       "1971.0    8239\n",
       "1960.0     379\n",
       "1970.0     365\n",
       "1965.0     330\n",
       "1900.0     287\n",
       "          ... \n",
       "1889.0       1\n",
       "1881.0       1\n",
       "1908.0       1\n",
       "1891.0       1\n",
       "1938.0       1\n",
       "Name: count, Length: 148, dtype: int64"
      ]
     },
     "execution_count": 21,
     "metadata": {},
     "output_type": "execute_result"
    }
   ],
   "source": [
    "df['built_year'].value_counts()"
   ]
  },
  {
   "cell_type": "code",
   "execution_count": 22,
   "metadata": {},
   "outputs": [
    {
     "data": {
      "text/plain": [
       "<Axes: xlabel='built_year', ylabel='Count'>"
      ]
     },
     "execution_count": 22,
     "metadata": {},
     "output_type": "execute_result"
    },
    {
     "data": {
      "image/png": "[encoded data removed]",
      "text/plain": [
       "<Figure size 640x480 with 1 Axes>"
      ]
     },
     "metadata": {},
     "output_type": "display_data"
    }
   ],
   "source": [
    "\n",
    "df = df[(df['built_year']>1850) & (df['built_year']< 2024)]\n",
    "sns.histplot(df['built_year'],kde = True,bins=50)"
   ]
  },
  {
   "cell_type": "code",
   "execution_count": 23,
   "metadata": {},
   "outputs": [
    {
     "data": {
      "text/plain": [
       "(15229, 10)"
      ]
     },
     "execution_count": 23,
     "metadata": {},
     "output_type": "execute_result"
    }
   ],
   "source": [
    "df.shape"
   ]
  },
  {
   "cell_type": "code",
   "execution_count": 24,
   "metadata": {},
   "outputs": [
    {
     "data": {
      "text/plain": [
       "Index(['1', '2', '3', 'Bajo', '4', '5', '6', '7', '8', 'Entreplanta exterior',\n",
       "       '9', 'Semi-sótano exterior', 'Semi-sótano interior',\n",
       "       'Entreplanta interior', 'Sótano interior', 'Sótano exterior'],\n",
       "      dtype='object', name='floor')"
      ]
     },
     "execution_count": 24,
     "metadata": {},
     "output_type": "execute_result"
    }
   ],
   "source": [
    "df['floor'].value_counts().index"
   ]
  },
  {
   "cell_type": "code",
   "execution_count": 25,
   "metadata": {},
   "outputs": [],
   "source": [
    "# Dictionary mapping numbers to words\n",
    "number_to_word = {\n",
    "    '1': 'one', '2': 'two', '3': 'three', '4': 'four', '5': 'five',\n",
    "    '6': 'six', '7': 'seven', '8': 'eight', '9': 'nine', 'Bajo': 'zero',\n",
    "    'Semi-sótano exterior':'semi-basement','Semi-sótano interior':'semi-basement',\n",
    "    'Entreplanta interior':'mezzanine', 'Sótano interior':'basement',\n",
    "    'Sótano exterior':'basement','Entreplanta exterior':'mezzanine'\n",
    "}\n",
    "\n",
    "# Replace numbers with words directly using the dictionary\n",
    "df['floor'] = df['floor'].replace(number_to_word)"
   ]
  },
  {
   "cell_type": "code",
   "execution_count": 26,
   "metadata": {},
   "outputs": [
    {
     "data": {
      "text/plain": [
       "floor\n",
       "one              3557\n",
       "two              2790\n",
       "three            2365\n",
       "zero             1846\n",
       "four             1789\n",
       "five             1004\n",
       "six               692\n",
       "seven             432\n",
       "eight             263\n",
       "mezzanine         241\n",
       "nine              137\n",
       "semi-basement      87\n",
       "basement           26\n",
       "Name: count, dtype: int64"
      ]
     },
     "execution_count": 26,
     "metadata": {},
     "output_type": "execute_result"
    }
   ],
   "source": [
    "df['floor'].value_counts()"
   ]
  },
  {
   "cell_type": "code",
   "execution_count": 27,
   "metadata": {
    "scrolled": true
   },
   "outputs": [],
   "source": [
    "#conda install -c conda-forge pycaret"
   ]
  },
  {
   "cell_type": "code",
   "execution_count": 28,
   "metadata": {},
   "outputs": [],
   "source": [
    "from pycaret.regression import *"
   ]
  },
  {
   "cell_type": "code",
   "execution_count": 29,
   "metadata": {},
   "outputs": [
    {
     "data": {
      "text/html": [
       "<style type=\"text/css\">\n",
       "#T_06a1f_row9_col1, #T_06a1f_row15_col1, #T_06a1f_row17_col1, #T_06a1f_row19_col1 {\n",
       "  background-color: lightgreen;\n",
       "}\n",
       "</style>\n",
       "<table id=\"T_06a1f\">\n",
       "  <thead>\n",
       "    <tr>\n",
       "      <th class=\"blank level0\" >&nbsp;</th>\n",
       "      <th id=\"T_06a1f_level0_col0\" class=\"col_heading level0 col0\" >Description</th>\n",
       "      <th id=\"T_06a1f_level0_col1\" class=\"col_heading level0 col1\" >Value</th>\n",
       "    </tr>\n",
       "  </thead>\n",
       "  <tbody>\n",
       "    <tr>\n",
       "      <th id=\"T_06a1f_level0_row0\" class=\"row_heading level0 row0\" >0</th>\n",
       "      <td id=\"T_06a1f_row0_col0\" class=\"data row0 col0\" >Session id</td>\n",
       "      <td id=\"T_06a1f_row0_col1\" class=\"data row0 col1\" >9</td>\n",
       "    </tr>\n",
       "    <tr>\n",
       "      <th id=\"T_06a1f_level0_row1\" class=\"row_heading level0 row1\" >1</th>\n",
       "      <td id=\"T_06a1f_row1_col0\" class=\"data row1 col0\" >Target</td>\n",
       "      <td id=\"T_06a1f_row1_col1\" class=\"data row1 col1\" >buy_price</td>\n",
       "    </tr>\n",
       "    <tr>\n",
       "      <th id=\"T_06a1f_level0_row2\" class=\"row_heading level0 row2\" >2</th>\n",
       "      <td id=\"T_06a1f_row2_col0\" class=\"data row2 col0\" >Target type</td>\n",
       "      <td id=\"T_06a1f_row2_col1\" class=\"data row2 col1\" >Regression</td>\n",
       "    </tr>\n",
       "    <tr>\n",
       "      <th id=\"T_06a1f_level0_row3\" class=\"row_heading level0 row3\" >3</th>\n",
       "      <td id=\"T_06a1f_row3_col0\" class=\"data row3 col0\" >Original data shape</td>\n",
       "      <td id=\"T_06a1f_row3_col1\" class=\"data row3 col1\" >(15229, 10)</td>\n",
       "    </tr>\n",
       "    <tr>\n",
       "      <th id=\"T_06a1f_level0_row4\" class=\"row_heading level0 row4\" >4</th>\n",
       "      <td id=\"T_06a1f_row4_col0\" class=\"data row4 col0\" >Transformed data shape</td>\n",
       "      <td id=\"T_06a1f_row4_col1\" class=\"data row4 col1\" >(15229, 41)</td>\n",
       "    </tr>\n",
       "    <tr>\n",
       "      <th id=\"T_06a1f_level0_row5\" class=\"row_heading level0 row5\" >5</th>\n",
       "      <td id=\"T_06a1f_row5_col0\" class=\"data row5 col0\" >Transformed train set shape</td>\n",
       "      <td id=\"T_06a1f_row5_col1\" class=\"data row5 col1\" >(10660, 41)</td>\n",
       "    </tr>\n",
       "    <tr>\n",
       "      <th id=\"T_06a1f_level0_row6\" class=\"row_heading level0 row6\" >6</th>\n",
       "      <td id=\"T_06a1f_row6_col0\" class=\"data row6 col0\" >Transformed test set shape</td>\n",
       "      <td id=\"T_06a1f_row6_col1\" class=\"data row6 col1\" >(4569, 41)</td>\n",
       "    </tr>\n",
       "    <tr>\n",
       "      <th id=\"T_06a1f_level0_row7\" class=\"row_heading level0 row7\" >7</th>\n",
       "      <td id=\"T_06a1f_row7_col0\" class=\"data row7 col0\" >Numeric features</td>\n",
       "      <td id=\"T_06a1f_row7_col1\" class=\"data row7 col1\" >4</td>\n",
       "    </tr>\n",
       "    <tr>\n",
       "      <th id=\"T_06a1f_level0_row8\" class=\"row_heading level0 row8\" >8</th>\n",
       "      <td id=\"T_06a1f_row8_col0\" class=\"data row8 col0\" >Categorical features</td>\n",
       "      <td id=\"T_06a1f_row8_col1\" class=\"data row8 col1\" >2</td>\n",
       "    </tr>\n",
       "    <tr>\n",
       "      <th id=\"T_06a1f_level0_row9\" class=\"row_heading level0 row9\" >9</th>\n",
       "      <td id=\"T_06a1f_row9_col0\" class=\"data row9 col0\" >Preprocess</td>\n",
       "      <td id=\"T_06a1f_row9_col1\" class=\"data row9 col1\" >True</td>\n",
       "    </tr>\n",
       "    <tr>\n",
       "      <th id=\"T_06a1f_level0_row10\" class=\"row_heading level0 row10\" >10</th>\n",
       "      <td id=\"T_06a1f_row10_col0\" class=\"data row10 col0\" >Imputation type</td>\n",
       "      <td id=\"T_06a1f_row10_col1\" class=\"data row10 col1\" >simple</td>\n",
       "    </tr>\n",
       "    <tr>\n",
       "      <th id=\"T_06a1f_level0_row11\" class=\"row_heading level0 row11\" >11</th>\n",
       "      <td id=\"T_06a1f_row11_col0\" class=\"data row11 col0\" >Numeric imputation</td>\n",
       "      <td id=\"T_06a1f_row11_col1\" class=\"data row11 col1\" >mean</td>\n",
       "    </tr>\n",
       "    <tr>\n",
       "      <th id=\"T_06a1f_level0_row12\" class=\"row_heading level0 row12\" >12</th>\n",
       "      <td id=\"T_06a1f_row12_col0\" class=\"data row12 col0\" >Categorical imputation</td>\n",
       "      <td id=\"T_06a1f_row12_col1\" class=\"data row12 col1\" >mode</td>\n",
       "    </tr>\n",
       "    <tr>\n",
       "      <th id=\"T_06a1f_level0_row13\" class=\"row_heading level0 row13\" >13</th>\n",
       "      <td id=\"T_06a1f_row13_col0\" class=\"data row13 col0\" >Maximum one-hot encoding</td>\n",
       "      <td id=\"T_06a1f_row13_col1\" class=\"data row13 col1\" >25</td>\n",
       "    </tr>\n",
       "    <tr>\n",
       "      <th id=\"T_06a1f_level0_row14\" class=\"row_heading level0 row14\" >14</th>\n",
       "      <td id=\"T_06a1f_row14_col0\" class=\"data row14 col0\" >Encoding method</td>\n",
       "      <td id=\"T_06a1f_row14_col1\" class=\"data row14 col1\" >None</td>\n",
       "    </tr>\n",
       "    <tr>\n",
       "      <th id=\"T_06a1f_level0_row15\" class=\"row_heading level0 row15\" >15</th>\n",
       "      <td id=\"T_06a1f_row15_col0\" class=\"data row15 col0\" >Remove multicollinearity</td>\n",
       "      <td id=\"T_06a1f_row15_col1\" class=\"data row15 col1\" >True</td>\n",
       "    </tr>\n",
       "    <tr>\n",
       "      <th id=\"T_06a1f_level0_row16\" class=\"row_heading level0 row16\" >16</th>\n",
       "      <td id=\"T_06a1f_row16_col0\" class=\"data row16 col0\" >Multicollinearity threshold</td>\n",
       "      <td id=\"T_06a1f_row16_col1\" class=\"data row16 col1\" >0.900000</td>\n",
       "    </tr>\n",
       "    <tr>\n",
       "      <th id=\"T_06a1f_level0_row17\" class=\"row_heading level0 row17\" >17</th>\n",
       "      <td id=\"T_06a1f_row17_col0\" class=\"data row17 col0\" >Transformation</td>\n",
       "      <td id=\"T_06a1f_row17_col1\" class=\"data row17 col1\" >True</td>\n",
       "    </tr>\n",
       "    <tr>\n",
       "      <th id=\"T_06a1f_level0_row18\" class=\"row_heading level0 row18\" >18</th>\n",
       "      <td id=\"T_06a1f_row18_col0\" class=\"data row18 col0\" >Transformation method</td>\n",
       "      <td id=\"T_06a1f_row18_col1\" class=\"data row18 col1\" >yeo-johnson</td>\n",
       "    </tr>\n",
       "    <tr>\n",
       "      <th id=\"T_06a1f_level0_row19\" class=\"row_heading level0 row19\" >19</th>\n",
       "      <td id=\"T_06a1f_row19_col0\" class=\"data row19 col0\" >Normalize</td>\n",
       "      <td id=\"T_06a1f_row19_col1\" class=\"data row19 col1\" >True</td>\n",
       "    </tr>\n",
       "    <tr>\n",
       "      <th id=\"T_06a1f_level0_row20\" class=\"row_heading level0 row20\" >20</th>\n",
       "      <td id=\"T_06a1f_row20_col0\" class=\"data row20 col0\" >Normalize method</td>\n",
       "      <td id=\"T_06a1f_row20_col1\" class=\"data row20 col1\" >zscore</td>\n",
       "    </tr>\n",
       "    <tr>\n",
       "      <th id=\"T_06a1f_level0_row21\" class=\"row_heading level0 row21\" >21</th>\n",
       "      <td id=\"T_06a1f_row21_col0\" class=\"data row21 col0\" >Fold Generator</td>\n",
       "      <td id=\"T_06a1f_row21_col1\" class=\"data row21 col1\" >KFold</td>\n",
       "    </tr>\n",
       "    <tr>\n",
       "      <th id=\"T_06a1f_level0_row22\" class=\"row_heading level0 row22\" >22</th>\n",
       "      <td id=\"T_06a1f_row22_col0\" class=\"data row22 col0\" >Fold Number</td>\n",
       "      <td id=\"T_06a1f_row22_col1\" class=\"data row22 col1\" >10</td>\n",
       "    </tr>\n",
       "    <tr>\n",
       "      <th id=\"T_06a1f_level0_row23\" class=\"row_heading level0 row23\" >23</th>\n",
       "      <td id=\"T_06a1f_row23_col0\" class=\"data row23 col0\" >CPU Jobs</td>\n",
       "      <td id=\"T_06a1f_row23_col1\" class=\"data row23 col1\" >-1</td>\n",
       "    </tr>\n",
       "    <tr>\n",
       "      <th id=\"T_06a1f_level0_row24\" class=\"row_heading level0 row24\" >24</th>\n",
       "      <td id=\"T_06a1f_row24_col0\" class=\"data row24 col0\" >Use GPU</td>\n",
       "      <td id=\"T_06a1f_row24_col1\" class=\"data row24 col1\" >False</td>\n",
       "    </tr>\n",
       "    <tr>\n",
       "      <th id=\"T_06a1f_level0_row25\" class=\"row_heading level0 row25\" >25</th>\n",
       "      <td id=\"T_06a1f_row25_col0\" class=\"data row25 col0\" >Log Experiment</td>\n",
       "      <td id=\"T_06a1f_row25_col1\" class=\"data row25 col1\" >False</td>\n",
       "    </tr>\n",
       "    <tr>\n",
       "      <th id=\"T_06a1f_level0_row26\" class=\"row_heading level0 row26\" >26</th>\n",
       "      <td id=\"T_06a1f_row26_col0\" class=\"data row26 col0\" >Experiment Name</td>\n",
       "      <td id=\"T_06a1f_row26_col1\" class=\"data row26 col1\" >reg-default-name</td>\n",
       "    </tr>\n",
       "    <tr>\n",
       "      <th id=\"T_06a1f_level0_row27\" class=\"row_heading level0 row27\" >27</th>\n",
       "      <td id=\"T_06a1f_row27_col0\" class=\"data row27 col0\" >USI</td>\n",
       "      <td id=\"T_06a1f_row27_col1\" class=\"data row27 col1\" >93e3</td>\n",
       "    </tr>\n",
       "  </tbody>\n",
       "</table>\n"
      ],
      "text/plain": [
       "<pandas.io.formats.style.Styler at 0x168548e50>"
      ]
     },
     "metadata": {},
     "output_type": "display_data"
    }
   ],
   "source": [
    "# Setup the environment in PyCaret\n",
    "regression_setup = setup(\n",
    "    data=df,\n",
    "    #test_data=test_data,\n",
    "    target = 'buy_price',\n",
    "    session_id=9,\n",
    "    ignore_features=[],\n",
    "    categorical_features=['district','floor'],\n",
    "    numeric_imputation = 'mean',\n",
    "    categorical_imputation = 'mode',\n",
    "    remove_multicollinearity=True,\n",
    "    transformation= True,\n",
    "    transformation_method = 'yeo-johnson',\n",
    "    normalize = True,\n",
    "    normalize_method = 'zscore'\n",
    "    )"
   ]
  },
  {
   "cell_type": "code",
   "execution_count": 30,
   "metadata": {},
   "outputs": [
    {
     "data": {
      "text/html": [],
      "text/plain": [
       "<IPython.core.display.HTML object>"
      ]
     },
     "metadata": {},
     "output_type": "display_data"
    },
    {
     "data": {
      "text/html": [
       "<style type=\"text/css\">\n",
       "#T_af595 th {\n",
       "  text-align: left;\n",
       "}\n",
       "#T_af595_row0_col0, #T_af595_row0_col1, #T_af595_row1_col0, #T_af595_row1_col2, #T_af595_row1_col3, #T_af595_row1_col4, #T_af595_row1_col5, #T_af595_row1_col6, #T_af595_row2_col0, #T_af595_row2_col1, #T_af595_row2_col2, #T_af595_row2_col3, #T_af595_row2_col4, #T_af595_row2_col5, #T_af595_row2_col6, #T_af595_row3_col0, #T_af595_row3_col1, #T_af595_row3_col2, #T_af595_row3_col3, #T_af595_row3_col4, #T_af595_row3_col5, #T_af595_row3_col6, #T_af595_row4_col0, #T_af595_row4_col1, #T_af595_row4_col2, #T_af595_row4_col3, #T_af595_row4_col4, #T_af595_row4_col5, #T_af595_row4_col6, #T_af595_row5_col0, #T_af595_row5_col1, #T_af595_row5_col2, #T_af595_row5_col3, #T_af595_row5_col4, #T_af595_row5_col5, #T_af595_row5_col6, #T_af595_row6_col0, #T_af595_row6_col1, #T_af595_row6_col2, #T_af595_row6_col3, #T_af595_row6_col4, #T_af595_row6_col5, #T_af595_row6_col6, #T_af595_row7_col0, #T_af595_row7_col1, #T_af595_row7_col2, #T_af595_row7_col3, #T_af595_row7_col4, #T_af595_row7_col5, #T_af595_row7_col6, #T_af595_row8_col0, #T_af595_row8_col1, #T_af595_row8_col2, #T_af595_row8_col3, #T_af595_row8_col4, #T_af595_row8_col5, #T_af595_row8_col6, #T_af595_row9_col0, #T_af595_row9_col1, #T_af595_row9_col2, #T_af595_row9_col3, #T_af595_row9_col4, #T_af595_row9_col5, #T_af595_row9_col6, #T_af595_row10_col0, #T_af595_row10_col1, #T_af595_row10_col2, #T_af595_row10_col3, #T_af595_row10_col4, #T_af595_row10_col5, #T_af595_row10_col6, #T_af595_row11_col0, #T_af595_row11_col1, #T_af595_row11_col2, #T_af595_row11_col3, #T_af595_row11_col4, #T_af595_row11_col5, #T_af595_row11_col6, #T_af595_row12_col0, #T_af595_row12_col1, #T_af595_row12_col2, #T_af595_row12_col3, #T_af595_row12_col4, #T_af595_row12_col5, #T_af595_row12_col6, #T_af595_row13_col0, #T_af595_row13_col1, #T_af595_row13_col2, #T_af595_row13_col3, #T_af595_row13_col4, #T_af595_row13_col5, #T_af595_row13_col6, #T_af595_row14_col0, #T_af595_row14_col1, #T_af595_row14_col2, #T_af595_row14_col3, #T_af595_row14_col4, #T_af595_row14_col5, #T_af595_row14_col6, #T_af595_row15_col0, #T_af595_row15_col1, #T_af595_row15_col2, #T_af595_row15_col3, #T_af595_row15_col4, #T_af595_row15_col5, #T_af595_row15_col6, #T_af595_row16_col0, #T_af595_row16_col1, #T_af595_row16_col2, #T_af595_row16_col3, #T_af595_row16_col4, #T_af595_row16_col5, #T_af595_row16_col6, #T_af595_row17_col0, #T_af595_row17_col1, #T_af595_row17_col2, #T_af595_row17_col3, #T_af595_row17_col4, #T_af595_row17_col5, #T_af595_row17_col6 {\n",
       "  text-align: left;\n",
       "}\n",
       "#T_af595_row0_col2, #T_af595_row0_col3, #T_af595_row0_col4, #T_af595_row0_col5, #T_af595_row0_col6, #T_af595_row1_col1 {\n",
       "  text-align: left;\n",
       "  background-color: yellow;\n",
       "}\n",
       "#T_af595_row0_col7, #T_af595_row1_col7, #T_af595_row2_col7, #T_af595_row3_col7, #T_af595_row4_col7, #T_af595_row5_col7, #T_af595_row6_col7, #T_af595_row7_col7, #T_af595_row8_col7, #T_af595_row9_col7, #T_af595_row10_col7, #T_af595_row11_col7, #T_af595_row12_col7, #T_af595_row13_col7, #T_af595_row14_col7, #T_af595_row16_col7, #T_af595_row17_col7 {\n",
       "  text-align: left;\n",
       "  background-color: lightgrey;\n",
       "}\n",
       "#T_af595_row15_col7 {\n",
       "  text-align: left;\n",
       "  background-color: yellow;\n",
       "  background-color: lightgrey;\n",
       "}\n",
       "</style>\n",
       "<table id=\"T_af595\">\n",
       "  <thead>\n",
       "    <tr>\n",
       "      <th class=\"blank level0\" >&nbsp;</th>\n",
       "      <th id=\"T_af595_level0_col0\" class=\"col_heading level0 col0\" >Model</th>\n",
       "      <th id=\"T_af595_level0_col1\" class=\"col_heading level0 col1\" >MAE</th>\n",
       "      <th id=\"T_af595_level0_col2\" class=\"col_heading level0 col2\" >MSE</th>\n",
       "      <th id=\"T_af595_level0_col3\" class=\"col_heading level0 col3\" >RMSE</th>\n",
       "      <th id=\"T_af595_level0_col4\" class=\"col_heading level0 col4\" >R2</th>\n",
       "      <th id=\"T_af595_level0_col5\" class=\"col_heading level0 col5\" >RMSLE</th>\n",
       "      <th id=\"T_af595_level0_col6\" class=\"col_heading level0 col6\" >MAPE</th>\n",
       "      <th id=\"T_af595_level0_col7\" class=\"col_heading level0 col7\" >TT (Sec)</th>\n",
       "    </tr>\n",
       "  </thead>\n",
       "  <tbody>\n",
       "    <tr>\n",
       "      <th id=\"T_af595_level0_row0\" class=\"row_heading level0 row0\" >lightgbm</th>\n",
       "      <td id=\"T_af595_row0_col0\" class=\"data row0 col0\" >Light Gradient Boosting Machine</td>\n",
       "      <td id=\"T_af595_row0_col1\" class=\"data row0 col1\" >60655.8237</td>\n",
       "      <td id=\"T_af595_row0_col2\" class=\"data row0 col2\" >8124950794.5170</td>\n",
       "      <td id=\"T_af595_row0_col3\" class=\"data row0 col3\" >90070.0121</td>\n",
       "      <td id=\"T_af595_row0_col4\" class=\"data row0 col4\" >0.8740</td>\n",
       "      <td id=\"T_af595_row0_col5\" class=\"data row0 col5\" >0.2166</td>\n",
       "      <td id=\"T_af595_row0_col6\" class=\"data row0 col6\" >0.1712</td>\n",
       "      <td id=\"T_af595_row0_col7\" class=\"data row0 col7\" >0.3040</td>\n",
       "    </tr>\n",
       "    <tr>\n",
       "      <th id=\"T_af595_level0_row1\" class=\"row_heading level0 row1\" >rf</th>\n",
       "      <td id=\"T_af595_row1_col0\" class=\"data row1 col0\" >Random Forest Regressor</td>\n",
       "      <td id=\"T_af595_row1_col1\" class=\"data row1 col1\" >60027.3727</td>\n",
       "      <td id=\"T_af595_row1_col2\" class=\"data row1 col2\" >8318742418.2544</td>\n",
       "      <td id=\"T_af595_row1_col3\" class=\"data row1 col3\" >91118.8220</td>\n",
       "      <td id=\"T_af595_row1_col4\" class=\"data row1 col4\" >0.8710</td>\n",
       "      <td id=\"T_af595_row1_col5\" class=\"data row1 col5\" >0.2222</td>\n",
       "      <td id=\"T_af595_row1_col6\" class=\"data row1 col6\" >0.1738</td>\n",
       "      <td id=\"T_af595_row1_col7\" class=\"data row1 col7\" >0.4300</td>\n",
       "    </tr>\n",
       "    <tr>\n",
       "      <th id=\"T_af595_level0_row2\" class=\"row_heading level0 row2\" >et</th>\n",
       "      <td id=\"T_af595_row2_col0\" class=\"data row2 col0\" >Extra Trees Regressor</td>\n",
       "      <td id=\"T_af595_row2_col1\" class=\"data row2 col1\" >61022.8779</td>\n",
       "      <td id=\"T_af595_row2_col2\" class=\"data row2 col2\" >8937190525.7530</td>\n",
       "      <td id=\"T_af595_row2_col3\" class=\"data row2 col3\" >94385.3337</td>\n",
       "      <td id=\"T_af595_row2_col4\" class=\"data row2 col4\" >0.8615</td>\n",
       "      <td id=\"T_af595_row2_col5\" class=\"data row2 col5\" >0.2300</td>\n",
       "      <td id=\"T_af595_row2_col6\" class=\"data row2 col6\" >0.1765</td>\n",
       "      <td id=\"T_af595_row2_col7\" class=\"data row2 col7\" >0.4280</td>\n",
       "    </tr>\n",
       "    <tr>\n",
       "      <th id=\"T_af595_level0_row3\" class=\"row_heading level0 row3\" >gbr</th>\n",
       "      <td id=\"T_af595_row3_col0\" class=\"data row3 col0\" >Gradient Boosting Regressor</td>\n",
       "      <td id=\"T_af595_row3_col1\" class=\"data row3 col1\" >66843.3221</td>\n",
       "      <td id=\"T_af595_row3_col2\" class=\"data row3 col2\" >9378965143.0466</td>\n",
       "      <td id=\"T_af595_row3_col3\" class=\"data row3 col3\" >96762.6392</td>\n",
       "      <td id=\"T_af595_row3_col4\" class=\"data row3 col4\" >0.8546</td>\n",
       "      <td id=\"T_af595_row3_col5\" class=\"data row3 col5\" >0.2422</td>\n",
       "      <td id=\"T_af595_row3_col6\" class=\"data row3 col6\" >0.1985</td>\n",
       "      <td id=\"T_af595_row3_col7\" class=\"data row3 col7\" >0.1710</td>\n",
       "    </tr>\n",
       "    <tr>\n",
       "      <th id=\"T_af595_level0_row4\" class=\"row_heading level0 row4\" >lar</th>\n",
       "      <td id=\"T_af595_row4_col0\" class=\"data row4 col0\" >Least Angle Regression</td>\n",
       "      <td id=\"T_af595_row4_col1\" class=\"data row4 col1\" >84979.5372</td>\n",
       "      <td id=\"T_af595_row4_col2\" class=\"data row4 col2\" >12791958698.8325</td>\n",
       "      <td id=\"T_af595_row4_col3\" class=\"data row4 col3\" >113058.4645</td>\n",
       "      <td id=\"T_af595_row4_col4\" class=\"data row4 col4\" >0.8017</td>\n",
       "      <td id=\"T_af595_row4_col5\" class=\"data row4 col5\" >0.5361</td>\n",
       "      <td id=\"T_af595_row4_col6\" class=\"data row4 col6\" >0.2954</td>\n",
       "      <td id=\"T_af595_row4_col7\" class=\"data row4 col7\" >0.0530</td>\n",
       "    </tr>\n",
       "    <tr>\n",
       "      <th id=\"T_af595_level0_row5\" class=\"row_heading level0 row5\" >llar</th>\n",
       "      <td id=\"T_af595_row5_col0\" class=\"data row5 col0\" >Lasso Least Angle Regression</td>\n",
       "      <td id=\"T_af595_row5_col1\" class=\"data row5 col1\" >84979.2363</td>\n",
       "      <td id=\"T_af595_row5_col2\" class=\"data row5 col2\" >12791953498.2970</td>\n",
       "      <td id=\"T_af595_row5_col3\" class=\"data row5 col3\" >113058.4419</td>\n",
       "      <td id=\"T_af595_row5_col4\" class=\"data row5 col4\" >0.8017</td>\n",
       "      <td id=\"T_af595_row5_col5\" class=\"data row5 col5\" >0.5366</td>\n",
       "      <td id=\"T_af595_row5_col6\" class=\"data row5 col6\" >0.2954</td>\n",
       "      <td id=\"T_af595_row5_col7\" class=\"data row5 col7\" >0.0540</td>\n",
       "    </tr>\n",
       "    <tr>\n",
       "      <th id=\"T_af595_level0_row6\" class=\"row_heading level0 row6\" >br</th>\n",
       "      <td id=\"T_af595_row6_col0\" class=\"data row6 col0\" >Bayesian Ridge</td>\n",
       "      <td id=\"T_af595_row6_col1\" class=\"data row6 col1\" >84958.1062</td>\n",
       "      <td id=\"T_af595_row6_col2\" class=\"data row6 col2\" >12791935040.1247</td>\n",
       "      <td id=\"T_af595_row6_col3\" class=\"data row6 col3\" >113058.2447</td>\n",
       "      <td id=\"T_af595_row6_col4\" class=\"data row6 col4\" >0.8017</td>\n",
       "      <td id=\"T_af595_row6_col5\" class=\"data row6 col5\" >0.5349</td>\n",
       "      <td id=\"T_af595_row6_col6\" class=\"data row6 col6\" >0.2951</td>\n",
       "      <td id=\"T_af595_row6_col7\" class=\"data row6 col7\" >0.0550</td>\n",
       "    </tr>\n",
       "    <tr>\n",
       "      <th id=\"T_af595_level0_row7\" class=\"row_heading level0 row7\" >ridge</th>\n",
       "      <td id=\"T_af595_row7_col0\" class=\"data row7 col0\" >Ridge Regression</td>\n",
       "      <td id=\"T_af595_row7_col1\" class=\"data row7 col1\" >84977.9581</td>\n",
       "      <td id=\"T_af595_row7_col2\" class=\"data row7 col2\" >12791945835.1874</td>\n",
       "      <td id=\"T_af595_row7_col3\" class=\"data row7 col3\" >113058.3992</td>\n",
       "      <td id=\"T_af595_row7_col4\" class=\"data row7 col4\" >0.8017</td>\n",
       "      <td id=\"T_af595_row7_col5\" class=\"data row7 col5\" >0.5381</td>\n",
       "      <td id=\"T_af595_row7_col6\" class=\"data row7 col6\" >0.2954</td>\n",
       "      <td id=\"T_af595_row7_col7\" class=\"data row7 col7\" >0.0560</td>\n",
       "    </tr>\n",
       "    <tr>\n",
       "      <th id=\"T_af595_level0_row8\" class=\"row_heading level0 row8\" >lasso</th>\n",
       "      <td id=\"T_af595_row8_col0\" class=\"data row8 col0\" >Lasso Regression</td>\n",
       "      <td id=\"T_af595_row8_col1\" class=\"data row8 col1\" >84979.2011</td>\n",
       "      <td id=\"T_af595_row8_col2\" class=\"data row8 col2\" >12791951733.5595</td>\n",
       "      <td id=\"T_af595_row8_col3\" class=\"data row8 col3\" >113058.4340</td>\n",
       "      <td id=\"T_af595_row8_col4\" class=\"data row8 col4\" >0.8017</td>\n",
       "      <td id=\"T_af595_row8_col5\" class=\"data row8 col5\" >0.5367</td>\n",
       "      <td id=\"T_af595_row8_col6\" class=\"data row8 col6\" >0.2954</td>\n",
       "      <td id=\"T_af595_row8_col7\" class=\"data row8 col7\" >0.1650</td>\n",
       "    </tr>\n",
       "    <tr>\n",
       "      <th id=\"T_af595_level0_row9\" class=\"row_heading level0 row9\" >lr</th>\n",
       "      <td id=\"T_af595_row9_col0\" class=\"data row9 col0\" >Linear Regression</td>\n",
       "      <td id=\"T_af595_row9_col1\" class=\"data row9 col1\" >84980.3002</td>\n",
       "      <td id=\"T_af595_row9_col2\" class=\"data row9 col2\" >12791912182.5638</td>\n",
       "      <td id=\"T_af595_row9_col3\" class=\"data row9 col3\" >113058.2631</td>\n",
       "      <td id=\"T_af595_row9_col4\" class=\"data row9 col4\" >0.8017</td>\n",
       "      <td id=\"T_af595_row9_col5\" class=\"data row9 col5\" >0.5400</td>\n",
       "      <td id=\"T_af595_row9_col6\" class=\"data row9 col6\" >0.2954</td>\n",
       "      <td id=\"T_af595_row9_col7\" class=\"data row9 col7\" >0.3050</td>\n",
       "    </tr>\n",
       "    <tr>\n",
       "      <th id=\"T_af595_level0_row10\" class=\"row_heading level0 row10\" >huber</th>\n",
       "      <td id=\"T_af595_row10_col0\" class=\"data row10 col0\" >Huber Regressor</td>\n",
       "      <td id=\"T_af595_row10_col1\" class=\"data row10 col1\" >83041.5066</td>\n",
       "      <td id=\"T_af595_row10_col2\" class=\"data row10 col2\" >13203207392.5645</td>\n",
       "      <td id=\"T_af595_row10_col3\" class=\"data row10 col3\" >114858.4113</td>\n",
       "      <td id=\"T_af595_row10_col4\" class=\"data row10 col4\" >0.7955</td>\n",
       "      <td id=\"T_af595_row10_col5\" class=\"data row10 col5\" >0.4824</td>\n",
       "      <td id=\"T_af595_row10_col6\" class=\"data row10 col6\" >0.2718</td>\n",
       "      <td id=\"T_af595_row10_col7\" class=\"data row10 col7\" >0.0660</td>\n",
       "    </tr>\n",
       "    <tr>\n",
       "      <th id=\"T_af595_level0_row11\" class=\"row_heading level0 row11\" >knn</th>\n",
       "      <td id=\"T_af595_row11_col0\" class=\"data row11 col0\" >K Neighbors Regressor</td>\n",
       "      <td id=\"T_af595_row11_col1\" class=\"data row11 col1\" >77513.0788</td>\n",
       "      <td id=\"T_af595_row11_col2\" class=\"data row11 col2\" >13321027786.9865</td>\n",
       "      <td id=\"T_af595_row11_col3\" class=\"data row11 col3\" >115301.7660</td>\n",
       "      <td id=\"T_af595_row11_col4\" class=\"data row11 col4\" >0.7935</td>\n",
       "      <td id=\"T_af595_row11_col5\" class=\"data row11 col5\" >0.2752</td>\n",
       "      <td id=\"T_af595_row11_col6\" class=\"data row11 col6\" >0.2227</td>\n",
       "      <td id=\"T_af595_row11_col7\" class=\"data row11 col7\" >0.0630</td>\n",
       "    </tr>\n",
       "    <tr>\n",
       "      <th id=\"T_af595_level0_row12\" class=\"row_heading level0 row12\" >par</th>\n",
       "      <td id=\"T_af595_row12_col0\" class=\"data row12 col0\" >Passive Aggressive Regressor</td>\n",
       "      <td id=\"T_af595_row12_col1\" class=\"data row12 col1\" >82937.5178</td>\n",
       "      <td id=\"T_af595_row12_col2\" class=\"data row12 col2\" >13574879035.0623</td>\n",
       "      <td id=\"T_af595_row12_col3\" class=\"data row12 col3\" >116461.6352</td>\n",
       "      <td id=\"T_af595_row12_col4\" class=\"data row12 col4\" >0.7898</td>\n",
       "      <td id=\"T_af595_row12_col5\" class=\"data row12 col5\" >0.4442</td>\n",
       "      <td id=\"T_af595_row12_col6\" class=\"data row12 col6\" >0.2640</td>\n",
       "      <td id=\"T_af595_row12_col7\" class=\"data row12 col7\" >0.1350</td>\n",
       "    </tr>\n",
       "    <tr>\n",
       "      <th id=\"T_af595_level0_row13\" class=\"row_heading level0 row13\" >dt</th>\n",
       "      <td id=\"T_af595_row13_col0\" class=\"data row13 col0\" >Decision Tree Regressor</td>\n",
       "      <td id=\"T_af595_row13_col1\" class=\"data row13 col1\" >75907.9905</td>\n",
       "      <td id=\"T_af595_row13_col2\" class=\"data row13 col2\" >14527094774.4641</td>\n",
       "      <td id=\"T_af595_row13_col3\" class=\"data row13 col3\" >120420.3546</td>\n",
       "      <td id=\"T_af595_row13_col4\" class=\"data row13 col4\" >0.7749</td>\n",
       "      <td id=\"T_af595_row13_col5\" class=\"data row13 col5\" >0.2878</td>\n",
       "      <td id=\"T_af595_row13_col6\" class=\"data row13 col6\" >0.2175</td>\n",
       "      <td id=\"T_af595_row13_col7\" class=\"data row13 col7\" >0.0610</td>\n",
       "    </tr>\n",
       "    <tr>\n",
       "      <th id=\"T_af595_level0_row14\" class=\"row_heading level0 row14\" >en</th>\n",
       "      <td id=\"T_af595_row14_col0\" class=\"data row14 col0\" >Elastic Net</td>\n",
       "      <td id=\"T_af595_row14_col1\" class=\"data row14 col1\" >91003.9328</td>\n",
       "      <td id=\"T_af595_row14_col2\" class=\"data row14 col2\" >15908961520.3211</td>\n",
       "      <td id=\"T_af595_row14_col3\" class=\"data row14 col3\" >126077.9892</td>\n",
       "      <td id=\"T_af595_row14_col4\" class=\"data row14 col4\" >0.7536</td>\n",
       "      <td id=\"T_af595_row14_col5\" class=\"data row14 col5\" >0.3551</td>\n",
       "      <td id=\"T_af595_row14_col6\" class=\"data row14 col6\" >0.2858</td>\n",
       "      <td id=\"T_af595_row14_col7\" class=\"data row14 col7\" >0.0560</td>\n",
       "    </tr>\n",
       "    <tr>\n",
       "      <th id=\"T_af595_level0_row15\" class=\"row_heading level0 row15\" >omp</th>\n",
       "      <td id=\"T_af595_row15_col0\" class=\"data row15 col0\" >Orthogonal Matching Pursuit</td>\n",
       "      <td id=\"T_af595_row15_col1\" class=\"data row15 col1\" >114295.4188</td>\n",
       "      <td id=\"T_af595_row15_col2\" class=\"data row15 col2\" >21592570408.5987</td>\n",
       "      <td id=\"T_af595_row15_col3\" class=\"data row15 col3\" >146911.8262</td>\n",
       "      <td id=\"T_af595_row15_col4\" class=\"data row15 col4\" >0.6653</td>\n",
       "      <td id=\"T_af595_row15_col5\" class=\"data row15 col5\" >0.5647</td>\n",
       "      <td id=\"T_af595_row15_col6\" class=\"data row15 col6\" >0.4219</td>\n",
       "      <td id=\"T_af595_row15_col7\" class=\"data row15 col7\" >0.0520</td>\n",
       "    </tr>\n",
       "    <tr>\n",
       "      <th id=\"T_af595_level0_row16\" class=\"row_heading level0 row16\" >ada</th>\n",
       "      <td id=\"T_af595_row16_col0\" class=\"data row16 col0\" >AdaBoost Regressor</td>\n",
       "      <td id=\"T_af595_row16_col1\" class=\"data row16 col1\" >118916.5152</td>\n",
       "      <td id=\"T_af595_row16_col2\" class=\"data row16 col2\" >21592782869.4060</td>\n",
       "      <td id=\"T_af595_row16_col3\" class=\"data row16 col3\" >146886.1727</td>\n",
       "      <td id=\"T_af595_row16_col4\" class=\"data row16 col4\" >0.6651</td>\n",
       "      <td id=\"T_af595_row16_col5\" class=\"data row16 col5\" >0.4561</td>\n",
       "      <td id=\"T_af595_row16_col6\" class=\"data row16 col6\" >0.4813</td>\n",
       "      <td id=\"T_af595_row16_col7\" class=\"data row16 col7\" >0.1270</td>\n",
       "    </tr>\n",
       "    <tr>\n",
       "      <th id=\"T_af595_level0_row17\" class=\"row_heading level0 row17\" >dummy</th>\n",
       "      <td id=\"T_af595_row17_col0\" class=\"data row17 col0\" >Dummy Regressor</td>\n",
       "      <td id=\"T_af595_row17_col1\" class=\"data row17 col1\" >207545.2647</td>\n",
       "      <td id=\"T_af595_row17_col2\" class=\"data row17 col2\" >64600316674.6194</td>\n",
       "      <td id=\"T_af595_row17_col3\" class=\"data row17 col3\" >254108.3605</td>\n",
       "      <td id=\"T_af595_row17_col4\" class=\"data row17 col4\" >-0.0005</td>\n",
       "      <td id=\"T_af595_row17_col5\" class=\"data row17 col5\" >0.6933</td>\n",
       "      <td id=\"T_af595_row17_col6\" class=\"data row17 col6\" >0.8008</td>\n",
       "      <td id=\"T_af595_row17_col7\" class=\"data row17 col7\" >0.0570</td>\n",
       "    </tr>\n",
       "  </tbody>\n",
       "</table>\n"
      ],
      "text/plain": [
       "<pandas.io.formats.style.Styler at 0x110c0e950>"
      ]
     },
     "metadata": {},
     "output_type": "display_data"
    },
    {
     "data": {
      "application/vnd.jupyter.widget-view+json": {
       "model_id": "",
       "version_major": 2,
       "version_minor": 0
      },
      "text/plain": [
       "Processing:   0%|          | 0/77 [00:00<?, ?it/s]"
      ]
     },
     "metadata": {},
     "output_type": "display_data"
    }
   ],
   "source": [
    "# compare baseline models\n",
    "best_model = compare_models()"
   ]
  },
  {
   "cell_type": "code",
   "execution_count": 31,
   "metadata": {
    "scrolled": true
   },
   "outputs": [
    {
     "data": {
      "text/html": [
       "<style type=\"text/css\">\n",
       "</style>\n",
       "<table id=\"T_9803e\">\n",
       "  <thead>\n",
       "    <tr>\n",
       "      <th class=\"blank level0\" >&nbsp;</th>\n",
       "      <th id=\"T_9803e_level0_col0\" class=\"col_heading level0 col0\" >Model</th>\n",
       "      <th id=\"T_9803e_level0_col1\" class=\"col_heading level0 col1\" >MAE</th>\n",
       "      <th id=\"T_9803e_level0_col2\" class=\"col_heading level0 col2\" >MSE</th>\n",
       "      <th id=\"T_9803e_level0_col3\" class=\"col_heading level0 col3\" >RMSE</th>\n",
       "      <th id=\"T_9803e_level0_col4\" class=\"col_heading level0 col4\" >R2</th>\n",
       "      <th id=\"T_9803e_level0_col5\" class=\"col_heading level0 col5\" >RMSLE</th>\n",
       "      <th id=\"T_9803e_level0_col6\" class=\"col_heading level0 col6\" >MAPE</th>\n",
       "    </tr>\n",
       "  </thead>\n",
       "  <tbody>\n",
       "    <tr>\n",
       "      <th id=\"T_9803e_level0_row0\" class=\"row_heading level0 row0\" >0</th>\n",
       "      <td id=\"T_9803e_row0_col0\" class=\"data row0 col0\" >Light Gradient Boosting Machine</td>\n",
       "      <td id=\"T_9803e_row0_col1\" class=\"data row0 col1\" >60721.5848</td>\n",
       "      <td id=\"T_9803e_row0_col2\" class=\"data row0 col2\" >8146206944.1284</td>\n",
       "      <td id=\"T_9803e_row0_col3\" class=\"data row0 col3\" >90256.3402</td>\n",
       "      <td id=\"T_9803e_row0_col4\" class=\"data row0 col4\" >0.8737</td>\n",
       "      <td id=\"T_9803e_row0_col5\" class=\"data row0 col5\" >0.2168</td>\n",
       "      <td id=\"T_9803e_row0_col6\" class=\"data row0 col6\" >0.1713</td>\n",
       "    </tr>\n",
       "  </tbody>\n",
       "</table>\n"
      ],
      "text/plain": [
       "<pandas.io.formats.style.Styler at 0x16855ec10>"
      ]
     },
     "metadata": {},
     "output_type": "display_data"
    }
   ],
   "source": [
    "# predict on test set\n",
    "holdout_pred = predict_model(best_model)\n"
   ]
  },
  {
   "cell_type": "code",
   "execution_count": 33,
   "metadata": {
    "scrolled": true
   },
   "outputs": [
    {
     "data": {
      "text/html": [
       "<div>\n",
       "<style scoped>\n",
       "    .dataframe tbody tr th:only-of-type {\n",
       "        vertical-align: middle;\n",
       "    }\n",
       "\n",
       "    .dataframe tbody tr th {\n",
       "        vertical-align: top;\n",
       "    }\n",
       "\n",
       "    .dataframe thead th {\n",
       "        text-align: right;\n",
       "    }\n",
       "</style>\n",
       "<table border=\"1\" class=\"dataframe\">\n",
       "  <thead>\n",
       "    <tr style=\"text-align: right;\">\n",
       "      <th></th>\n",
       "      <th>buy_price</th>\n",
       "      <th>prediction_label</th>\n",
       "    </tr>\n",
       "  </thead>\n",
       "  <tbody>\n",
       "    <tr>\n",
       "      <th>15559</th>\n",
       "      <td>218400</td>\n",
       "      <td>171852.954637</td>\n",
       "    </tr>\n",
       "    <tr>\n",
       "      <th>4258</th>\n",
       "      <td>570000</td>\n",
       "      <td>720307.719654</td>\n",
       "    </tr>\n",
       "    <tr>\n",
       "      <th>14012</th>\n",
       "      <td>980000</td>\n",
       "      <td>947486.851489</td>\n",
       "    </tr>\n",
       "    <tr>\n",
       "      <th>18199</th>\n",
       "      <td>295000</td>\n",
       "      <td>444679.390124</td>\n",
       "    </tr>\n",
       "    <tr>\n",
       "      <th>10580</th>\n",
       "      <td>228000</td>\n",
       "      <td>184869.144432</td>\n",
       "    </tr>\n",
       "  </tbody>\n",
       "</table>\n",
       "</div>"
      ],
      "text/plain": [
       "       buy_price  prediction_label\n",
       "15559     218400     171852.954637\n",
       "4258      570000     720307.719654\n",
       "14012     980000     947486.851489\n",
       "18199     295000     444679.390124\n",
       "10580     228000     184869.144432"
      ]
     },
     "execution_count": 33,
     "metadata": {},
     "output_type": "execute_result"
    }
   ],
   "source": [
    "# show predictions df\n",
    "holdout_pred[['buy_price','prediction_label']].head()"
   ]
  },
  {
   "cell_type": "code",
   "execution_count": 46,
   "metadata": {},
   "outputs": [],
   "source": [
    "df.to_csv('../data/processed/Madrid_Dataset_wo_null_ayushya.csv')"
   ]
  },
  {
   "cell_type": "code",
   "execution_count": null,
   "metadata": {},
   "outputs": [],
   "source": []
  }
 ],
 "metadata": {
  "kernelspec": {
   "display_name": "constructor",
   "language": "python",
   "name": "constructor"
  },
  "language_info": {
   "codemirror_mode": {
    "name": "ipython",
    "version": 3
   },
   "file_extension": ".py",
   "mimetype": "text/x-python",
   "name": "python",
   "nbconvert_exporter": "python",
   "pygments_lexer": "ipython3",
   "version": "3.11.8"
  }
 },
 "nbformat": 4,
 "nbformat_minor": 4
}
