{
  "cells": [
    {
      "cell_type": "code",
      "execution_count": 14,
      "metadata": {
        "id": "vHD12TqQEHd2"
      },
      "outputs": [],
      "source": [
        "# Import necessary libraries\n",
        "import pandas as pd\n",
        "import numpy as np\n",
        "\n",
        "# Visualization\n",
        "import seaborn as sns\n",
        "import matplotlib.pyplot as plt\n",
        "plt.style.use(\"fivethirtyeight\")\n",
        "\n",
        "from sklearn.manifold import TSNE\n",
        "from sklearn.cluster import KMeans\n",
        "from sklearn.decomposition import PCA\n",
        "\n",
        "from sklearn.metrics import f1_score\n",
        "from sklearn.linear_model import LogisticRegression, RidgeClassifier, Lasso, ElasticNet\n",
        "from sklearn.impute import SimpleImputer\n",
        "from sklearn.preprocessing import StandardScaler, OneHotEncoder\n",
        "\n",
        "from sklearn.model_selection import train_test_split\n",
        "from sklearn.compose import ColumnTransformer\n",
        "from sklearn.pipeline import Pipeline\n",
        "from sklearn.preprocessing import StandardScaler, OneHotEncoder, PowerTransformer, MinMaxScaler\n",
        "from sklearn.linear_model import LinearRegression, Ridge, Lasso\n",
        "from sklearn.ensemble import RandomForestRegressor, GradientBoostingRegressor\n",
        "from sklearn.metrics import mean_squared_error, r2_score\n",
        "from sklearn.metrics import silhouette_samples, silhouette_score\n",
        "import math\n",
        "import random\n",
        "import matplotlib.ticker as mtick\n",
        "import re\n",
        "\n",
        "from sklearn.decomposition import PCA\n",
        "from sklearn.preprocessing import LabelEncoder\n",
        "\n",
        "import tensorflow as tf\n",
        "from tensorflow import keras\n",
        "from tensorflow.keras import layers\n",
        "from tensorflow.keras.models import Sequential\n",
        "from tensorflow.keras.layers import Dense, Dropout\n",
        "from tensorflow.keras.callbacks import EarlyStopping\n",
        "from tensorflow.keras.metrics import MeanSquaredError, RootMeanSquaredError, MeanAbsolutePercentageError\n"
      ]
    },
    {
      "cell_type": "code",
      "execution_count": 15,
      "metadata": {
        "id": "F8L2wamt2GVC"
      },
      "outputs": [],
      "source": [
        "random.seed(42)"
      ]
    },
    {
      "cell_type": "code",
      "execution_count": 16,
      "metadata": {
        "colab": {
          "base_uri": "https://localhost:8080/"
        },
        "id": "4jGyjddPEHd4",
        "outputId": "f167c7c5-4b95-4224-ce8c-c074e790f800"
      },
      "outputs": [
        {
          "output_type": "execute_result",
          "data": {
            "text/plain": [
              "(3392, 9)"
            ]
          },
          "metadata": {},
          "execution_count": 16
        }
      ],
      "source": [
        "# Load the dataset\n",
        "# df = pd.read_csv('/content/additional_data_cleaned_ER.csv')\n",
        "\n",
        "# df_0 = pd.read_csv('/content/additional_data_cluster_0.csv')\n",
        "df_1 = pd.read_csv('/content/additional_data_cluster_1.csv')\n",
        "# df_2 = pd.read_csv('/content/additional_data_cluster_2.csv')\n",
        "df = pd.concat([df_1], ignore_index=True)\n",
        "\n",
        "# df = df.dropna()\n",
        "\n",
        "# df['log_price'] = np.log(df['price'])\n",
        "# df = df.drop(columns = 'price')\n",
        "\n",
        "\n",
        "df.shape"
      ]
    },
    {
      "cell_type": "code",
      "execution_count": 17,
      "metadata": {
        "id": "IKFxQHtgEHd4"
      },
      "outputs": [],
      "source": [
        "import warnings\n",
        "warnings.filterwarnings(\"ignore\")"
      ]
    },
    {
      "cell_type": "code",
      "execution_count": 18,
      "metadata": {
        "id": "ERwaJ8QdEHd6"
      },
      "outputs": [],
      "source": [
        "numerical_features = df.select_dtypes(include=['int64', 'float64']).columns.tolist()\n",
        "categorical_features = df.select_dtypes(include=['object']).columns.tolist()"
      ]
    },
    {
      "cell_type": "code",
      "execution_count": 19,
      "metadata": {
        "id": "s3m5FUEWEHd6"
      },
      "outputs": [],
      "source": [
        "X = df[[column for column in df.columns if column != 'price']]\n",
        "y = df['price']"
      ]
    },
    {
      "cell_type": "code",
      "execution_count": 20,
      "metadata": {
        "id": "bnyy_F1kEHd6"
      },
      "outputs": [],
      "source": [
        "# Identify numerical and categorical columns\n",
        "numerical_features = X.select_dtypes(include=['int64', 'float64']).columns\n",
        "categorical_features = X.select_dtypes(include=['object', 'category']).columns\n",
        "\n",
        "# Define preprocessing for numerical features\n",
        "numerical_transformer = Pipeline(steps=[\n",
        "    ('imputer', SimpleImputer(strategy='mean')),  # Impute missing values with the mean\n",
        "    ('scaler', StandardScaler())  # Standardize numerical features\n",
        "])\n",
        "\n",
        "# Define preprocessing for categorical features\n",
        "categorical_transformer = Pipeline(steps=[\n",
        "    ('imputer', SimpleImputer(strategy='most_frequent')),  # Impute missing values with the most frequent value\n",
        "    ('onehot', OneHotEncoder(handle_unknown='ignore'))  # One-hot encode categorical features\n",
        "])\n",
        "\n",
        "# Combine preprocessing steps\n",
        "preprocessor = ColumnTransformer(\n",
        "    transformers=[\n",
        "        ('num', numerical_transformer, numerical_features),\n",
        "        ('cat', categorical_transformer, categorical_features)\n",
        "    ])\n"
      ]
    },
    {
      "cell_type": "code",
      "execution_count": 21,
      "metadata": {
        "id": "IXHT3UF42GVF"
      },
      "outputs": [],
      "source": [
        "X_train, X_test, y_train, y_test = train_test_split(X, y, test_size=0.2, random_state=42)"
      ]
    },
    {
      "cell_type": "code",
      "execution_count": 22,
      "metadata": {
        "id": "_IPks_qvm_8j"
      },
      "outputs": [],
      "source": [
        "X_train, X_val, y_train, y_val = train_test_split(X_train, y_train, test_size=0.2, random_state=42)"
      ]
    },
    {
      "cell_type": "code",
      "execution_count": 23,
      "metadata": {
        "id": "1aPafZMy4mZS"
      },
      "outputs": [],
      "source": [
        "X_train = preprocessor.fit_transform(X_train)\n",
        "X_val = preprocessor.transform(X_val)\n",
        "X_test = preprocessor.transform(X_test)\n",
        "\n",
        "X_train = X_train.toarray()\n",
        "X_val = X_val.toarray()\n",
        "X_test = X_test.toarray()"
      ]
    },
    {
      "cell_type": "code",
      "execution_count": 24,
      "metadata": {
        "colab": {
          "base_uri": "https://localhost:8080/"
        },
        "collapsed": true,
        "id": "EEb3jGmJ2GVF",
        "outputId": "49f188c3-0c4b-497a-9a7d-62add3ceeb90"
      },
      "outputs": [
        {
          "output_type": "stream",
          "name": "stdout",
          "text": [
            "Epoch 1/100\n",
            "68/68 [==============================] - 2s 8ms/step - loss: 445171924992.0000 - mae: 580769.2500 - mean_squared_error: 445171924992.0000 - root_mean_squared_error: 667212.0625 - mean_absolute_percentage_error: 99.8633 - r_squared: -3.3013 - val_loss: 481376894976.0000 - val_mae: 604477.5000 - val_mean_squared_error: 481376894976.0000 - val_root_mean_squared_error: 693813.3125 - val_mean_absolute_percentage_error: 98.8864 - val_r_squared: -3.3113\n",
            "Epoch 2/100\n",
            "68/68 [==============================] - 0s 5ms/step - loss: 267247288320.0000 - mae: 407186.3438 - mean_squared_error: 267247288320.0000 - root_mean_squared_error: 516959.6562 - mean_absolute_percentage_error: 69.9345 - r_squared: -1.5731 - val_loss: 56105504768.0000 - val_mae: 185216.5938 - val_mean_squared_error: 56105504768.0000 - val_root_mean_squared_error: 236866.0000 - val_mean_absolute_percentage_error: 41.8814 - val_r_squared: 0.5057\n",
            "Epoch 3/100\n",
            "68/68 [==============================] - 0s 5ms/step - loss: 38391025664.0000 - mae: 142670.3750 - mean_squared_error: 38391025664.0000 - root_mean_squared_error: 195936.2812 - mean_absolute_percentage_error: 29.8024 - r_squared: 0.6283 - val_loss: 36859011072.0000 - val_mae: 131083.3594 - val_mean_squared_error: 36859011072.0000 - val_root_mean_squared_error: 191987.0000 - val_mean_absolute_percentage_error: 24.8103 - val_r_squared: 0.6764\n",
            "Epoch 4/100\n",
            "68/68 [==============================] - 0s 4ms/step - loss: 26539270144.0000 - mae: 115389.2578 - mean_squared_error: 26539270144.0000 - root_mean_squared_error: 162908.7812 - mean_absolute_percentage_error: 22.8829 - r_squared: 0.7439 - val_loss: 29239633920.0000 - val_mae: 117165.8203 - val_mean_squared_error: 29239633920.0000 - val_root_mean_squared_error: 170996.0000 - val_mean_absolute_percentage_error: 22.2783 - val_r_squared: 0.7419\n",
            "Epoch 5/100\n",
            "68/68 [==============================] - 0s 5ms/step - loss: 21808439296.0000 - mae: 102684.0234 - mean_squared_error: 21808439296.0000 - root_mean_squared_error: 147676.8125 - mean_absolute_percentage_error: 19.5734 - r_squared: 0.7901 - val_loss: 25725026304.0000 - val_mae: 108283.8516 - val_mean_squared_error: 25725026304.0000 - val_root_mean_squared_error: 160390.2344 - val_mean_absolute_percentage_error: 19.8870 - val_r_squared: 0.7721\n",
            "Epoch 6/100\n",
            "68/68 [==============================] - 0s 4ms/step - loss: 19500822528.0000 - mae: 95980.0859 - mean_squared_error: 19500822528.0000 - root_mean_squared_error: 139645.3438 - mean_absolute_percentage_error: 17.8398 - r_squared: 0.8112 - val_loss: 24018925568.0000 - val_mae: 103107.9688 - val_mean_squared_error: 24018925568.0000 - val_root_mean_squared_error: 154980.4062 - val_mean_absolute_percentage_error: 18.1594 - val_r_squared: 0.7873\n",
            "Epoch 7/100\n",
            "68/68 [==============================] - 0s 5ms/step - loss: 18146719744.0000 - mae: 92473.8828 - mean_squared_error: 18146719744.0000 - root_mean_squared_error: 134709.7656 - mean_absolute_percentage_error: 17.0907 - r_squared: 0.8217 - val_loss: 22704713728.0000 - val_mae: 100878.5078 - val_mean_squared_error: 22704713728.0000 - val_root_mean_squared_error: 150680.8281 - val_mean_absolute_percentage_error: 18.1910 - val_r_squared: 0.7982\n",
            "Epoch 8/100\n",
            "68/68 [==============================] - 0s 5ms/step - loss: 17429991424.0000 - mae: 90612.6641 - mean_squared_error: 17429991424.0000 - root_mean_squared_error: 132022.6875 - mean_absolute_percentage_error: 16.7288 - r_squared: 0.8282 - val_loss: 22057191424.0000 - val_mae: 98809.5859 - val_mean_squared_error: 22057191424.0000 - val_root_mean_squared_error: 148516.6406 - val_mean_absolute_percentage_error: 17.5694 - val_r_squared: 0.8044\n",
            "Epoch 9/100\n",
            "68/68 [==============================] - 0s 5ms/step - loss: 16951787520.0000 - mae: 89660.2031 - mean_squared_error: 16951787520.0000 - root_mean_squared_error: 130199.0312 - mean_absolute_percentage_error: 16.5486 - r_squared: 0.8374 - val_loss: 21985906688.0000 - val_mae: 98229.2969 - val_mean_squared_error: 21985906688.0000 - val_root_mean_squared_error: 148276.4531 - val_mean_absolute_percentage_error: 17.1440 - val_r_squared: 0.8053\n",
            "Epoch 10/100\n",
            "68/68 [==============================] - 0s 4ms/step - loss: 16439441408.0000 - mae: 88392.1797 - mean_squared_error: 16439441408.0000 - root_mean_squared_error: 128216.3828 - mean_absolute_percentage_error: 16.3258 - r_squared: 0.8367 - val_loss: 22627643392.0000 - val_mae: 99272.8984 - val_mean_squared_error: 22627643392.0000 - val_root_mean_squared_error: 150424.8750 - val_mean_absolute_percentage_error: 17.0031 - val_r_squared: 0.8000\n",
            "Epoch 11/100\n",
            "68/68 [==============================] - 0s 5ms/step - loss: 16196039680.0000 - mae: 87729.0859 - mean_squared_error: 16196039680.0000 - root_mean_squared_error: 127263.6641 - mean_absolute_percentage_error: 16.2206 - r_squared: 0.8430 - val_loss: 21662904320.0000 - val_mae: 97315.3203 - val_mean_squared_error: 21662904320.0000 - val_root_mean_squared_error: 147183.2344 - val_mean_absolute_percentage_error: 17.0483 - val_r_squared: 0.8084\n",
            "Epoch 12/100\n",
            "68/68 [==============================] - 0s 4ms/step - loss: 15729616896.0000 - mae: 86620.3516 - mean_squared_error: 15729616896.0000 - root_mean_squared_error: 125417.7656 - mean_absolute_percentage_error: 16.0214 - r_squared: 0.8442 - val_loss: 21188605952.0000 - val_mae: 96872.9531 - val_mean_squared_error: 21188605952.0000 - val_root_mean_squared_error: 145563.0625 - val_mean_absolute_percentage_error: 17.1392 - val_r_squared: 0.8122\n",
            "Epoch 13/100\n",
            "68/68 [==============================] - 0s 4ms/step - loss: 15466588160.0000 - mae: 86340.5859 - mean_squared_error: 15466588160.0000 - root_mean_squared_error: 124364.7422 - mean_absolute_percentage_error: 15.9986 - r_squared: 0.8537 - val_loss: 21322977280.0000 - val_mae: 98005.1406 - val_mean_squared_error: 21322977280.0000 - val_root_mean_squared_error: 146023.8906 - val_mean_absolute_percentage_error: 17.5503 - val_r_squared: 0.8107\n",
            "Epoch 14/100\n",
            "68/68 [==============================] - 0s 4ms/step - loss: 15473492992.0000 - mae: 86238.9297 - mean_squared_error: 15473492992.0000 - root_mean_squared_error: 124392.4922 - mean_absolute_percentage_error: 15.9594 - r_squared: 0.8446 - val_loss: 21233778688.0000 - val_mae: 96833.9609 - val_mean_squared_error: 21233778688.0000 - val_root_mean_squared_error: 145718.1406 - val_mean_absolute_percentage_error: 17.1345 - val_r_squared: 0.8118\n",
            "Epoch 15/100\n",
            "68/68 [==============================] - 0s 5ms/step - loss: 15430387712.0000 - mae: 86584.0859 - mean_squared_error: 15430387712.0000 - root_mean_squared_error: 124219.1094 - mean_absolute_percentage_error: 16.0395 - r_squared: 0.8433 - val_loss: 21486002176.0000 - val_mae: 98665.0781 - val_mean_squared_error: 21486002176.0000 - val_root_mean_squared_error: 146581.0469 - val_mean_absolute_percentage_error: 17.7420 - val_r_squared: 0.8088\n",
            "Epoch 16/100\n",
            "68/68 [==============================] - 0s 5ms/step - loss: 15135454208.0000 - mae: 85231.2266 - mean_squared_error: 15135454208.0000 - root_mean_squared_error: 123026.2344 - mean_absolute_percentage_error: 15.6761 - r_squared: 0.8560 - val_loss: 21185472512.0000 - val_mae: 96939.6562 - val_mean_squared_error: 21185472512.0000 - val_root_mean_squared_error: 145552.2969 - val_mean_absolute_percentage_error: 17.1341 - val_r_squared: 0.8120\n",
            "Epoch 17/100\n",
            "68/68 [==============================] - 0s 4ms/step - loss: 14791980032.0000 - mae: 83976.9375 - mean_squared_error: 14791980032.0000 - root_mean_squared_error: 121622.2812 - mean_absolute_percentage_error: 15.5237 - r_squared: 0.8561 - val_loss: 21036138496.0000 - val_mae: 97305.1875 - val_mean_squared_error: 21036138496.0000 - val_root_mean_squared_error: 145038.4062 - val_mean_absolute_percentage_error: 17.6429 - val_r_squared: 0.8131\n",
            "Epoch 18/100\n",
            "68/68 [==============================] - 0s 4ms/step - loss: 14791174144.0000 - mae: 84587.8516 - mean_squared_error: 14791174144.0000 - root_mean_squared_error: 121618.9688 - mean_absolute_percentage_error: 15.5902 - r_squared: 0.8523 - val_loss: 21092651008.0000 - val_mae: 97345.7578 - val_mean_squared_error: 21092651008.0000 - val_root_mean_squared_error: 145233.0938 - val_mean_absolute_percentage_error: 17.5198 - val_r_squared: 0.8126\n",
            "Epoch 19/100\n",
            "68/68 [==============================] - 0s 4ms/step - loss: 14705369088.0000 - mae: 83948.5391 - mean_squared_error: 14705369088.0000 - root_mean_squared_error: 121265.6953 - mean_absolute_percentage_error: 15.4723 - r_squared: 0.8558 - val_loss: 21322248192.0000 - val_mae: 96676.8203 - val_mean_squared_error: 21322248192.0000 - val_root_mean_squared_error: 146021.3906 - val_mean_absolute_percentage_error: 16.9829 - val_r_squared: 0.8111\n",
            "Epoch 20/100\n",
            "68/68 [==============================] - 0s 4ms/step - loss: 14588353536.0000 - mae: 83963.8203 - mean_squared_error: 14588353536.0000 - root_mean_squared_error: 120782.2578 - mean_absolute_percentage_error: 15.5324 - r_squared: 0.8557 - val_loss: 21243473920.0000 - val_mae: 97004.5859 - val_mean_squared_error: 21243473920.0000 - val_root_mean_squared_error: 145751.4062 - val_mean_absolute_percentage_error: 17.2050 - val_r_squared: 0.8115\n",
            "Epoch 21/100\n",
            "68/68 [==============================] - 0s 5ms/step - loss: 14359260160.0000 - mae: 82887.0312 - mean_squared_error: 14359260160.0000 - root_mean_squared_error: 119830.1328 - mean_absolute_percentage_error: 15.2160 - r_squared: 0.8618 - val_loss: 21113149440.0000 - val_mae: 95747.9219 - val_mean_squared_error: 21113149440.0000 - val_root_mean_squared_error: 145303.6406 - val_mean_absolute_percentage_error: 16.8413 - val_r_squared: 0.8129\n",
            "Epoch 22/100\n",
            "68/68 [==============================] - 0s 5ms/step - loss: 14362249216.0000 - mae: 83222.4219 - mean_squared_error: 14362249216.0000 - root_mean_squared_error: 119842.6016 - mean_absolute_percentage_error: 15.3476 - r_squared: 0.8581 - val_loss: 21626183680.0000 - val_mae: 97418.8984 - val_mean_squared_error: 21626183680.0000 - val_root_mean_squared_error: 147058.4375 - val_mean_absolute_percentage_error: 16.9514 - val_r_squared: 0.8086\n",
            "Epoch 23/100\n",
            "68/68 [==============================] - 0s 4ms/step - loss: 14325910528.0000 - mae: 82872.4453 - mean_squared_error: 14325910528.0000 - root_mean_squared_error: 119690.8984 - mean_absolute_percentage_error: 15.1442 - r_squared: 0.8597 - val_loss: 20914139136.0000 - val_mae: 95903.3828 - val_mean_squared_error: 20914139136.0000 - val_root_mean_squared_error: 144617.2188 - val_mean_absolute_percentage_error: 17.1598 - val_r_squared: 0.8144\n",
            "Epoch 24/100\n",
            "68/68 [==============================] - 0s 5ms/step - loss: 14198133760.0000 - mae: 82638.1562 - mean_squared_error: 14198133760.0000 - root_mean_squared_error: 119155.9219 - mean_absolute_percentage_error: 15.2280 - r_squared: 0.8624 - val_loss: 21185951744.0000 - val_mae: 96001.4062 - val_mean_squared_error: 21185951744.0000 - val_root_mean_squared_error: 145553.9531 - val_mean_absolute_percentage_error: 16.9044 - val_r_squared: 0.8123\n",
            "Epoch 25/100\n",
            "68/68 [==============================] - 0s 4ms/step - loss: 14234834944.0000 - mae: 82720.4297 - mean_squared_error: 14234834944.0000 - root_mean_squared_error: 119309.8281 - mean_absolute_percentage_error: 15.2272 - r_squared: 0.8579 - val_loss: 21069062144.0000 - val_mae: 96049.1719 - val_mean_squared_error: 21069062144.0000 - val_root_mean_squared_error: 145151.8594 - val_mean_absolute_percentage_error: 16.9133 - val_r_squared: 0.8132\n",
            "Epoch 26/100\n",
            "68/68 [==============================] - 0s 4ms/step - loss: 14068410368.0000 - mae: 81996.7734 - mean_squared_error: 14068410368.0000 - root_mean_squared_error: 118610.3281 - mean_absolute_percentage_error: 14.9939 - r_squared: 0.8598 - val_loss: 21005795328.0000 - val_mae: 95392.7031 - val_mean_squared_error: 21005795328.0000 - val_root_mean_squared_error: 144933.7656 - val_mean_absolute_percentage_error: 16.9563 - val_r_squared: 0.8138\n",
            "Epoch 27/100\n",
            "68/68 [==============================] - 0s 7ms/step - loss: 13974468608.0000 - mae: 81968.5938 - mean_squared_error: 13974468608.0000 - root_mean_squared_error: 118213.6562 - mean_absolute_percentage_error: 15.0942 - r_squared: 0.8653 - val_loss: 21575651328.0000 - val_mae: 98029.4219 - val_mean_squared_error: 21575651328.0000 - val_root_mean_squared_error: 146886.5312 - val_mean_absolute_percentage_error: 17.7095 - val_r_squared: 0.8080\n",
            "Epoch 28/100\n",
            "68/68 [==============================] - 0s 7ms/step - loss: 13895070720.0000 - mae: 81644.6328 - mean_squared_error: 13895070720.0000 - root_mean_squared_error: 117877.3516 - mean_absolute_percentage_error: 15.0256 - r_squared: 0.8612 - val_loss: 21602371584.0000 - val_mae: 96700.9141 - val_mean_squared_error: 21602371584.0000 - val_root_mean_squared_error: 146977.4531 - val_mean_absolute_percentage_error: 16.7375 - val_r_squared: 0.8089\n",
            "Epoch 29/100\n",
            "68/68 [==============================] - 0s 7ms/step - loss: 13918701568.0000 - mae: 81509.0000 - mean_squared_error: 13918701568.0000 - root_mean_squared_error: 117977.5469 - mean_absolute_percentage_error: 14.9377 - r_squared: 0.8617 - val_loss: 21072064512.0000 - val_mae: 95692.7656 - val_mean_squared_error: 21072064512.0000 - val_root_mean_squared_error: 145162.2031 - val_mean_absolute_percentage_error: 17.0028 - val_r_squared: 0.8130\n",
            "Epoch 30/100\n",
            "68/68 [==============================] - 0s 6ms/step - loss: 13656247296.0000 - mae: 80829.4531 - mean_squared_error: 13656247296.0000 - root_mean_squared_error: 116859.9453 - mean_absolute_percentage_error: 14.8197 - r_squared: 0.8674 - val_loss: 21465065472.0000 - val_mae: 96836.5938 - val_mean_squared_error: 21465065472.0000 - val_root_mean_squared_error: 146509.6094 - val_mean_absolute_percentage_error: 16.9789 - val_r_squared: 0.8097\n",
            "Epoch 31/100\n",
            "68/68 [==============================] - 0s 7ms/step - loss: 13943926784.0000 - mae: 81571.5391 - mean_squared_error: 13943926784.0000 - root_mean_squared_error: 118084.4062 - mean_absolute_percentage_error: 14.8898 - r_squared: 0.8621 - val_loss: 21222037504.0000 - val_mae: 96759.4141 - val_mean_squared_error: 21222037504.0000 - val_root_mean_squared_error: 145677.8594 - val_mean_absolute_percentage_error: 17.3572 - val_r_squared: 0.8113\n",
            "Epoch 32/100\n",
            "68/68 [==============================] - 0s 7ms/step - loss: 13718141952.0000 - mae: 80642.2891 - mean_squared_error: 13718141952.0000 - root_mean_squared_error: 117124.4688 - mean_absolute_percentage_error: 14.8001 - r_squared: 0.8631 - val_loss: 21121005568.0000 - val_mae: 96036.2422 - val_mean_squared_error: 21121005568.0000 - val_root_mean_squared_error: 145330.6719 - val_mean_absolute_percentage_error: 17.1727 - val_r_squared: 0.8122\n",
            "Epoch 33/100\n",
            "68/68 [==============================] - 1s 7ms/step - loss: 13639330816.0000 - mae: 81541.6250 - mean_squared_error: 13639330816.0000 - root_mean_squared_error: 116787.5469 - mean_absolute_percentage_error: 14.9967 - r_squared: 0.8629 - val_loss: 21171787776.0000 - val_mae: 96032.8984 - val_mean_squared_error: 21171787776.0000 - val_root_mean_squared_error: 145505.2812 - val_mean_absolute_percentage_error: 16.8569 - val_r_squared: 0.8124\n"
          ]
        }
      ],
      "source": [
        "def r_squared(y_true, y_pred):\n",
        "    ss_res = tf.reduce_sum(tf.square(y_true - y_pred))\n",
        "    ss_tot = tf.reduce_sum(tf.square(y_true - tf.reduce_mean(y_true)))\n",
        "    return 1 - ss_res / (ss_tot + tf.keras.backend.epsilon())\n",
        "\n",
        "\n",
        "# Very good result for df_2 with log_price\n",
        "model = Sequential([\n",
        "    Dense(120, activation='relu', input_shape=(X_train.shape[1],)),\n",
        "    Dense(100, activation='relu', kernel_initializer='he_normal'),\n",
        "    Dense(80, activation='relu', kernel_initializer='he_normal'),\n",
        "    Dense(60, activation='relu', kernel_initializer='he_normal'),\n",
        "    Dense(40, activation='relu', kernel_initializer='he_normal'),\n",
        "    Dense(20, activation='relu', kernel_initializer='he_normal'),\n",
        "    Dense(1)\n",
        "])\n",
        "\n",
        "# Better result for df_0, normal price (no log_price, no drop_na)\n",
        "# model = Sequential([\n",
        "#     Dense(180, activation='relu', input_shape=(X_train.shape[1],)),\n",
        "#     Dense(150, activation='relu', kernel_initializer='he_normal'),\n",
        "#     Dense(120, activation='relu', kernel_initializer='he_normal'),\n",
        "#     Dense(110, activation='relu', kernel_initializer='he_normal'),\n",
        "#     Dense(100, activation='relu', kernel_initializer='he_normal'),\n",
        "#     Dense(90, activation='relu', kernel_initializer='he_normal'),\n",
        "#     Dense(80, activation='relu', kernel_initializer='he_normal'),\n",
        "#     Dense(70, activation='relu', kernel_initializer='he_normal'),\n",
        "#     Dense(60, activation='relu', kernel_initializer='he_normal'),\n",
        "#     Dense(40, activation='relu', kernel_initializer='he_normal'),\n",
        "#     Dense(20, activation='relu', kernel_initializer='he_normal'),\n",
        "#     Dense(1)\n",
        "# ])\n",
        "\n",
        "model.compile(optimizer='adam', loss='mse', metrics=['mae', MeanSquaredError(), RootMeanSquaredError(), MeanAbsolutePercentageError(), r_squared])\n",
        "\n",
        "early_stopping = EarlyStopping(monitor='val_loss', patience=10, restore_best_weights=True)\n",
        "\n",
        "history = model.fit(X_train, y_train, epochs=100, validation_data=(X_val, y_val), batch_size=32, callbacks=[early_stopping])"
      ]
    },
    {
      "cell_type": "code",
      "execution_count": 25,
      "metadata": {
        "colab": {
          "base_uri": "https://localhost:8080/"
        },
        "id": "aS4yE3lYf0w5",
        "outputId": "03c7ea0b-9374-4ef3-b7f5-0dd3b2c4cc43"
      },
      "outputs": [
        {
          "output_type": "stream",
          "name": "stdout",
          "text": [
            "17/17 [==============================] - 0s 3ms/step - loss: 20914139136.0000 - mae: 95903.3828 - mean_squared_error: 20914139136.0000 - root_mean_squared_error: 144617.2188 - mean_absolute_percentage_error: 17.1598 - r_squared: 0.8144\n"
          ]
        }
      ],
      "source": [
        "loss, mae, mse, rmse, mape, r2 = model.evaluate(X_val, y_val)"
      ]
    },
    {
      "cell_type": "code",
      "execution_count": 26,
      "metadata": {
        "colab": {
          "base_uri": "https://localhost:8080/"
        },
        "id": "fGeZ90P6mth3",
        "outputId": "ef7717a0-6b97-4391-b7ad-a0c483818f48"
      },
      "outputs": [
        {
          "output_type": "execute_result",
          "data": {
            "text/plain": [
              "0.10329801339285714"
            ]
          },
          "metadata": {},
          "execution_count": 26
        }
      ],
      "source": [
        "rmse/(y_val.max() - y_val.min())"
      ]
    }
  ],
  "metadata": {
    "colab": {
      "provenance": []
    },
    "kernelspec": {
      "display_name": "housing_project",
      "language": "python",
      "name": "python3"
    },
    "language_info": {
      "codemirror_mode": {
        "name": "ipython",
        "version": 3
      },
      "file_extension": ".py",
      "mimetype": "text/x-python",
      "name": "python",
      "nbconvert_exporter": "python",
      "pygments_lexer": "ipython3",
      "version": "3.9.19"
    }
  },
  "nbformat": 4,
  "nbformat_minor": 0
}