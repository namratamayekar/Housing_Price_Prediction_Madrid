{
 "cells": [
  {
   "cell_type": "code",
   "execution_count": 1,
   "metadata": {},
   "outputs": [],
   "source": [
    "import pandas as pd\n",
    "import numpy as np\n",
    "from neighborhoods import admin_wards\n",
    "from neighborhoods import district_neighborhoods"
   ]
  },
  {
   "cell_type": "code",
   "execution_count": 2,
   "metadata": {},
   "outputs": [],
   "source": [
    "df = pd.read_json('../data/raw/scraped_data.json')\n",
    "df = df[['Price', 'Title', 'Full description', 'Bedrooms', 'Features', 'Area']]"
   ]
  },
  {
   "cell_type": "code",
   "execution_count": 3,
   "metadata": {},
   "outputs": [
    {
     "name": "stderr",
     "output_type": "stream",
     "text": [
      "/var/folders/zm/z5q67jgd0vv23h_ypgdpl9ph0000gn/T/ipykernel_32260/3288621376.py:1: FutureWarning: The default value of regex will change from True to False in a future version. In addition, single character regular expressions will *not* be treated as literal strings when regex=True.\n",
      "  df['Price'] = df['Price'].str.replace('.', '').str.replace('€', '').apply(lambda x: int(x))\n"
     ]
    }
   ],
   "source": [
    "df['Price'] = df['Price'].str.replace('.', '').str.replace('€', '').apply(lambda x: int(x))\n",
    "df['price'] = df['Price'].copy()\n",
    "df['Title'] = df['Title'].str.replace(',', '')\n",
    "df['Title'] = df['Title'].apply(lambda x: x.split())\n",
    "df['neighborhood'] = df['Title'].apply(lambda x: x[-2])"
   ]
  },
  {
   "cell_type": "code",
   "execution_count": 4,
   "metadata": {},
   "outputs": [
    {
     "name": "stdout",
     "output_type": "stream",
     "text": [
      "<class 'pandas.core.frame.DataFrame'>\n",
      "RangeIndex: 1284 entries, 0 to 1283\n",
      "Data columns (total 8 columns):\n",
      " #   Column            Non-Null Count  Dtype \n",
      "---  ------            --------------  ----- \n",
      " 0   Price             1284 non-null   int64 \n",
      " 1   Title             1284 non-null   object\n",
      " 2   Full description  1283 non-null   object\n",
      " 3   Bedrooms          1284 non-null   object\n",
      " 4   Features          1284 non-null   object\n",
      " 5   Area              1284 non-null   object\n",
      " 6   price             1284 non-null   int64 \n",
      " 7   neighborhood      1284 non-null   object\n",
      "dtypes: int64(2), object(6)\n",
      "memory usage: 80.4+ KB\n"
     ]
    }
   ],
   "source": [
    "df.info()"
   ]
  },
  {
   "cell_type": "code",
   "execution_count": 5,
   "metadata": {},
   "outputs": [
    {
     "name": "stderr",
     "output_type": "stream",
     "text": [
      "/var/folders/zm/z5q67jgd0vv23h_ypgdpl9ph0000gn/T/ipykernel_32260/1803489140.py:14: FutureWarning: The default value of regex will change from True to False in a future version. In addition, single character regular expressions will *not* be treated as literal strings when regex=True.\n",
      "  df['m2'] = df['m2'].str.replace('.', '')\n"
     ]
    }
   ],
   "source": [
    "df_area_values = []\n",
    "for index, item in enumerate(df['Features'].values):\n",
    "    found = False\n",
    "    for value in item:\n",
    "        if 'construidos' in value:\n",
    "            df_area_values.append(value)\n",
    "            found = True\n",
    "            break\n",
    "    if not found:\n",
    "        df_area_values.append(df['Area'].iloc[index])\n",
    "\n",
    "df['m2'] = df_area_values\n",
    "\n",
    "df['m2'] = df['m2'].str.replace('.', '')\n",
    "df['m2'] = df['m2'].apply(lambda x: float(x.split()[0]))"
   ]
  },
  {
   "cell_type": "code",
   "execution_count": 6,
   "metadata": {},
   "outputs": [],
   "source": [
    "df_rooms_values = []\n",
    "\n",
    "for index, item in enumerate(df['Features'].values):\n",
    "    found = False\n",
    "    for value in item:\n",
    "        if 'habitaciones' in value or 'habitación' in value:\n",
    "            df_rooms_values.append(value)\n",
    "            found = True\n",
    "            break\n",
    "    if not found:\n",
    "        df_rooms_values.append(df['Bedrooms'].iloc[index])\n",
    "\n",
    "df['rooms'] = df_rooms_values\n",
    "df['rooms'] = df['rooms'].apply(lambda x: x.split()[0]).replace(\"Sin\", '0').apply(lambda x: int(x))"
   ]
  },
  {
   "cell_type": "code",
   "execution_count": 7,
   "metadata": {},
   "outputs": [
    {
     "name": "stdout",
     "output_type": "stream",
     "text": [
      "<class 'pandas.core.frame.DataFrame'>\n",
      "RangeIndex: 1284 entries, 0 to 1283\n",
      "Data columns (total 10 columns):\n",
      " #   Column            Non-Null Count  Dtype  \n",
      "---  ------            --------------  -----  \n",
      " 0   Price             1284 non-null   int64  \n",
      " 1   Title             1284 non-null   object \n",
      " 2   Full description  1283 non-null   object \n",
      " 3   Bedrooms          1284 non-null   object \n",
      " 4   Features          1284 non-null   object \n",
      " 5   Area              1284 non-null   object \n",
      " 6   price             1284 non-null   int64  \n",
      " 7   neighborhood      1284 non-null   object \n",
      " 8   m2                1284 non-null   float64\n",
      " 9   rooms             1284 non-null   int64  \n",
      "dtypes: float64(1), int64(3), object(6)\n",
      "memory usage: 100.4+ KB\n"
     ]
    }
   ],
   "source": [
    "df.info()"
   ]
  },
  {
   "cell_type": "code",
   "execution_count": 8,
   "metadata": {},
   "outputs": [],
   "source": [
    "df_house_type_2 = []\n",
    "\n",
    "for index, item in enumerate(df['Features'].values):\n",
    "    found = False\n",
    "    for value in item:\n",
    "        if 'exterior' in value.lower():\n",
    "            df_house_type_2.append('exterior')\n",
    "            found = True\n",
    "            break\n",
    "        if 'interior' in value.lower():\n",
    "            df_house_type_2.append('interior')\n",
    "            found = True\n",
    "            break\n",
    "    if not found:\n",
    "        df_house_type_2.append('not indicated')\n",
    "\n",
    "df['house_type_2'] = df_house_type_2\n"
   ]
  },
  {
   "cell_type": "code",
   "execution_count": 9,
   "metadata": {},
   "outputs": [],
   "source": [
    "df_house_type = []\n",
    "\n",
    "for index, item in enumerate(df['Features'].values):\n",
    "    found = False\n",
    "    for value in item:\n",
    "        if value.lower().startswith('planta'):\n",
    "            df_house_type.append(value)\n",
    "            found = True\n",
    "            break\n",
    "        if 'bajo' in value.lower():\n",
    "            df_house_type.append('bajo')\n",
    "            found = True\n",
    "            break\n",
    "        if 'entreplanta' in value.lower():\n",
    "            df_house_type.append('entreplanta')\n",
    "            found = True\n",
    "            break\n",
    "        if 'sotano' in value.lower():\n",
    "            df_house_type.append('chalet')\n",
    "            found = True\n",
    "            break\n",
    "        if 'semisotano' in value.lower():\n",
    "            df_house_type.append('semi-sotano')\n",
    "            found = True\n",
    "            break\n",
    "        if 'casa' in value.lower():\n",
    "            df_house_type.append('casa')\n",
    "            found = True\n",
    "            break\n",
    "        if 'chalet' in value.lower():\n",
    "            df_house_type.append('chalet')\n",
    "            found = True\n",
    "            break\n",
    "    if not found:\n",
    "        full_desc = df['Full description'].iloc[index]\n",
    "        if 'sotano' in full_desc:\n",
    "            df_house_type.append('sotano')\n",
    "            found = True\n",
    "        elif 'semisotano' in full_desc:\n",
    "            df_house_type.append('semi-sotano')\n",
    "            found = True\n",
    "        elif 'casa' in full_desc:\n",
    "            df_house_type.append('casa')\n",
    "            found = True\n",
    "        elif 'chalet' in full_desc:\n",
    "            df_house_type.append('chalet')\n",
    "            found = True\n",
    "        else:\n",
    "            df_house_type.append('not indicated')\n",
    "\n",
    "df['house_type'] = df_house_type\n",
    "df['house_type'] = df['house_type'].str.replace(' exterior', \"\").str.replace(' interior', \"\").str.replace('ª', \"\").str.replace('Planta', \"planta\")"
   ]
  },
  {
   "cell_type": "code",
   "execution_count": 10,
   "metadata": {},
   "outputs": [],
   "source": [
    "df_garage = []\n",
    "\n",
    "for index, item in enumerate(df['Features'].values):\n",
    "    found = False\n",
    "    for value in item:\n",
    "        if 'garaje' in value.lower():\n",
    "            df_garage.append(1)\n",
    "            found = True\n",
    "            break\n",
    "    if not found:\n",
    "        df_garage.append(0)\n",
    "\n",
    "df['garage'] = df_garage"
   ]
  },
  {
   "cell_type": "code",
   "execution_count": 11,
   "metadata": {},
   "outputs": [],
   "source": [
    "df_elevator = []\n",
    "\n",
    "for index, item in enumerate(df['Features'].values):\n",
    "    found = False\n",
    "    for value in item:\n",
    "        if 'ascensor' in value.lower():\n",
    "            df_elevator.append(1)\n",
    "            found = True\n",
    "            break\n",
    "    if not found:\n",
    "        df_elevator.append(0)\n",
    "\n",
    "df['elevator'] = df_elevator"
   ]
  },
  {
   "cell_type": "code",
   "execution_count": 12,
   "metadata": {},
   "outputs": [],
   "source": [
    "df['neighborhood'] = df['neighborhood'].str.replace(\"-\", \" \")"
   ]
  },
  {
   "cell_type": "code",
   "execution_count": 13,
   "metadata": {},
   "outputs": [],
   "source": [
    "df_neighborhoods = set(df['neighborhood'].values)\n",
    "\n",
    "for item in admin_wards:\n",
    "    for barrio in df_neighborhoods:\n",
    "        if item in barrio:\n",
    "            df['neighborhood'] = df['neighborhood'].replace(barrio, item)\n",
    "        elif barrio in item:\n",
    "            df['neighborhood'] = df['neighborhood'].replace(barrio, item)"
   ]
  },
  {
   "cell_type": "code",
   "execution_count": null,
   "metadata": {},
   "outputs": [],
   "source": []
  },
  {
   "cell_type": "code",
   "execution_count": 14,
   "metadata": {},
   "outputs": [],
   "source": [
    "replace_tuples = [('Fresno', 'Mirasierra'),\n",
    "                  ('Tablas', 'Valverde') ,\n",
    "                  ('Montecarmelo', \"Mirasierra\"),\n",
    "                  (\"Manoteras\", 'Apóstol Santiago'),\n",
    "                  ('Gavia', 'Ensanche de Vallecas'),\n",
    "                  ('Sanchinarro', 'Valdefuentes'), \n",
    "                  ('Ambroz', \"Casco Histórico de Vicálvaro\"),\n",
    "                  ('Frontera', 'Palos de Moguer')\n",
    "]"
   ]
  },
  {
   "cell_type": "code",
   "execution_count": 15,
   "metadata": {},
   "outputs": [],
   "source": [
    "for item in replace_tuples:\n",
    "    df['neighborhood'] = df['neighborhood'].replace(item[0], item[1])"
   ]
  },
  {
   "cell_type": "code",
   "execution_count": 16,
   "metadata": {},
   "outputs": [],
   "source": [
    "df = df[df['neighborhood']!= 'Carabanchel']"
   ]
  },
  {
   "cell_type": "code",
   "execution_count": 17,
   "metadata": {},
   "outputs": [],
   "source": [
    "df['district'] = df['neighborhood'].copy()"
   ]
  },
  {
   "cell_type": "code",
   "execution_count": 18,
   "metadata": {},
   "outputs": [],
   "source": [
    "df_district_unique = set(df['district'].values)\n",
    "\n",
    "for item in df_district_unique:\n",
    "    for key in district_neighborhoods:\n",
    "        if item in district_neighborhoods[key]:\n",
    "            df['district'] = df['district'].replace(item, key)"
   ]
  },
  {
   "cell_type": "code",
   "execution_count": 19,
   "metadata": {},
   "outputs": [],
   "source": [
    "df = df[['price', 'house_type', 'house_type_2', 'rooms', 'm2', 'elevator',\n",
    "       'garage', 'neighborhood', 'district']]"
   ]
  },
  {
   "cell_type": "code",
   "execution_count": 21,
   "metadata": {},
   "outputs": [
    {
     "name": "stdout",
     "output_type": "stream",
     "text": [
      "<class 'pandas.core.frame.DataFrame'>\n",
      "Int64Index: 1282 entries, 0 to 1283\n",
      "Data columns (total 9 columns):\n",
      " #   Column        Non-Null Count  Dtype  \n",
      "---  ------        --------------  -----  \n",
      " 0   price         1282 non-null   int64  \n",
      " 1   house_type    1282 non-null   object \n",
      " 2   house_type_2  1282 non-null   object \n",
      " 3   rooms         1282 non-null   int64  \n",
      " 4   m2            1282 non-null   float64\n",
      " 5   elevator      1282 non-null   int64  \n",
      " 6   garage        1282 non-null   int64  \n",
      " 7   neighborhood  1282 non-null   object \n",
      " 8   district      1282 non-null   object \n",
      "dtypes: float64(1), int64(4), object(4)\n",
      "memory usage: 100.2+ KB\n"
     ]
    }
   ],
   "source": [
    "df.info()"
   ]
  },
  {
   "cell_type": "code",
   "execution_count": 22,
   "metadata": {},
   "outputs": [
    {
     "data": {
      "text/plain": [
       "(1066, 9)"
      ]
     },
     "execution_count": 22,
     "metadata": {},
     "output_type": "execute_result"
    }
   ],
   "source": [
    "df = df[~df.apply(lambda x: x.astype(str).str.contains('not indicated')).any(axis=1)]\n",
    "df.shape"
   ]
  },
  {
   "cell_type": "code",
   "execution_count": 24,
   "metadata": {},
   "outputs": [],
   "source": [
    "df.to_csv('../data/processed/scraped_data_cleaned_Emanuela.csv')"
   ]
  }
 ],
 "metadata": {
  "kernelspec": {
   "display_name": "housing_project",
   "language": "python",
   "name": "python3"
  },
  "language_info": {
   "codemirror_mode": {
    "name": "ipython",
    "version": 3
   },
   "file_extension": ".py",
   "mimetype": "text/x-python",
   "name": "python",
   "nbconvert_exporter": "python",
   "pygments_lexer": "ipython3",
   "version": "3.9.19"
  }
 },
 "nbformat": 4,
 "nbformat_minor": 2
}
