{
 "cells": [
  {
   "cell_type": "code",
   "execution_count": 2,
   "metadata": {},
   "outputs": [],
   "source": [
    "# Import necessary libraries\n",
    "import pandas as pd\n",
    "import numpy as np\n",
    "\n",
    "# Visualization\n",
    "import seaborn as sns\n",
    "import matplotlib.pyplot as plt\n",
    "plt.style.use(\"fivethirtyeight\")\n",
    "\n",
    "from sklearn.model_selection import train_test_split\n",
    "from sklearn.compose import ColumnTransformer\n",
    "from sklearn.pipeline import Pipeline\n",
    "from sklearn.preprocessing import StandardScaler, OneHotEncoder\n",
    "from sklearn.linear_model import LinearRegression, Ridge, Lasso\n",
    "from sklearn.ensemble import RandomForestRegressor, GradientBoostingRegressor\n",
    "from sklearn.metrics import mean_squared_error, r2_score\n",
    "\n",
    "# Load the dataset\n",
    "df_ = pd.read_csv('/Users/ayushyapare/Desktop/Ayushyas_Life/Work/Projects/Housing_Price_Prediction_Madrid/data/raw/houses_Madrid.csv')\n",
    "target_column = 'buy_price'\n"
   ]
  },
  {
   "cell_type": "code",
   "execution_count": 5,
   "metadata": {},
   "outputs": [],
   "source": [
    "import warnings\n",
    "warnings.filterwarnings(\"ignore\")\n",
    "\n",
    "import sys\n",
    "sys.path.append('/Users/ayushyapare/Desktop/Ayushyas_Life/Work/Projects/Snippets')\n",
    "\n",
    "from DataFrame_Analysis import analyze_dataframe"
   ]
  },
  {
   "cell_type": "code",
   "execution_count": 6,
   "metadata": {},
   "outputs": [],
   "source": [
    "df = df_[['sq_mt_built', 'sq_mt_useful', 'n_rooms',\n",
    "       'n_bathrooms', 'n_floors', 'sq_mt_allotment','is_exact_address_hidden',\n",
    "        'portal', 'floor', 'is_floor_under', 'door',\n",
    "       'neighborhood_id', 'operation', 'rent_price', 'rent_price_by_area',\n",
    "       'is_rent_price_known', 'buy_price', 'buy_price_by_area',\n",
    "       'is_buy_price_known', 'house_type_id', 'is_renewal_needed',\n",
    "       'is_new_development', 'built_year', 'has_central_heating',\n",
    "       'has_individual_heating', 'are_pets_allowed', 'has_ac',\n",
    "       'has_fitted_wardrobes', 'has_lift', 'is_exterior', 'has_garden',\n",
    "       'has_pool', 'has_terrace', 'has_balcony', 'has_storage_room',\n",
    "       'is_furnished', 'is_kitchen_equipped', 'is_accessible',\n",
    "       'has_green_zones', 'energy_certificate', 'has_parking',\n",
    "       'has_private_parking', 'has_public_parking',\n",
    "       'is_parking_included_in_price', 'parking_price', 'is_orientation_north',\n",
    "       'is_orientation_west', 'is_orientation_south', 'is_orientation_east']]\n",
    "      "
   ]
  },
  {
   "cell_type": "code",
   "execution_count": 4,
   "metadata": {},
   "outputs": [],
   "source": [
    "# Perform EDA now\n",
    "# analyze_dataframe(df)"
   ]
  },
  {
   "cell_type": "code",
   "execution_count": 7,
   "metadata": {},
   "outputs": [],
   "source": [
    "from sklearn.impute import SimpleImputer\n",
    "from sklearn.preprocessing import StandardScaler, OneHotEncoder\n",
    "\n",
    "# Assuming the dataset is already loaded into df\n",
    "# Define features and target variable\n",
    "X = df.drop(target_column, axis=1)\n",
    "y = df[target_column]\n",
    "\n",
    "# Identify numerical and categorical columns\n",
    "# Identify numerical and categorical columns\n",
    "numerical_features = X.select_dtypes(include=['int64', 'float64']).columns\n",
    "categorical_features = X.select_dtypes(include=['object', 'category']).columns\n",
    "\n",
    "# Define preprocessing for numerical features\n",
    "numerical_transformer = Pipeline(steps=[\n",
    "    ('imputer', SimpleImputer(strategy='mean')),  # Impute missing values with the mean\n",
    "    ('scaler', StandardScaler())  # Standardize numerical features\n",
    "])\n",
    "\n",
    "# Define preprocessing for categorical features\n",
    "categorical_transformer = Pipeline(steps=[\n",
    "    ('imputer', SimpleImputer(strategy='most_frequent')),  # Impute missing values with the most frequent value\n",
    "    ('onehot', OneHotEncoder(handle_unknown='ignore'))  # One-hot encode categorical features\n",
    "])\n",
    "\n",
    "# Combine preprocessing steps\n",
    "preprocessor = ColumnTransformer(\n",
    "    transformers=[\n",
    "        ('num', numerical_transformer, numerical_features),\n",
    "        ('cat', categorical_transformer, categorical_features)\n",
    "    ])\n",
    "\n",
    "# Train-test split\n",
    "X_train, X_test, y_train, y_test = train_test_split(X, y, test_size=0.2, random_state=42)\n",
    "\n"
   ]
  },
  {
   "cell_type": "code",
   "execution_count": 13,
   "metadata": {},
   "outputs": [],
   "source": [
    "from sklearn.metrics import f1_score\n",
    "from sklearn.linear_model import LogisticRegression, RidgeClassifier, Lasso\n"
   ]
  },
  {
   "cell_type": "code",
   "execution_count": null,
   "metadata": {},
   "outputs": [
    {
     "name": "stdout",
     "output_type": "stream",
     "text": [
      "Logistic Regression - F1 Score: 0.08\n",
      "Ridge Classifier - F1 Score: 0.03\n"
     ]
    }
   ],
   "source": [
    "# Identify numerical and categorical columns\n",
    "numerical_features = X.select_dtypes(include=['int64', 'float64']).columns\n",
    "categorical_features = X.select_dtypes(include=['object', 'category']).columns\n",
    "\n",
    "# Define preprocessing for numerical features\n",
    "numerical_transformer = Pipeline(steps=[\n",
    "    ('imputer', SimpleImputer(strategy='median')),\n",
    "    ('scaler', StandardScaler())\n",
    "])\n",
    "\n",
    "# Define preprocessing for categorical features\n",
    "categorical_transformer = Pipeline(steps=[\n",
    "    ('imputer', SimpleImputer(strategy='most_frequent')),\n",
    "    ('onehot', OneHotEncoder(handle_unknown='ignore'))\n",
    "])\n",
    "\n",
    "# Combine preprocessing steps\n",
    "preprocessor = ColumnTransformer(\n",
    "    transformers=[\n",
    "        ('num', numerical_transformer, numerical_features),\n",
    "        ('cat', categorical_transformer, categorical_features)\n",
    "    ])\n",
    "\n",
    "# Initialize models\n",
    "models = {\n",
    "    'Logistic Regression': LogisticRegression(),\n",
    "    'Ridge Classifier': RidgeClassifier(),\n",
    "    'Lasso (Logistic Regression)': LogisticRegression(penalty='l1', solver='saga')\n",
    "}\n",
    "\n",
    "# Train and evaluate models\n",
    "for name, model in models.items():\n",
    "    # Create a pipeline that includes preprocessing and the model\n",
    "    clf = Pipeline(steps=[\n",
    "        ('preprocessor', preprocessor),\n",
    "        ('model', model)\n",
    "    ])\n",
    "    \n",
    "    clf.fit(X_train, y_train)\n",
    "    y_pred = clf.predict(X_test)\n",
    "    f1 = f1_score(y_test, y_pred, average='weighted')\n",
    "    print(f'{name} - F1 Score: {f1:.2f}')"
   ]
  },
  {
   "cell_type": "code",
   "execution_count": 2,
   "metadata": {
    "scrolled": true
   },
   "outputs": [
    {
     "name": "stdout",
     "output_type": "stream",
     "text": [
      "Channels:\n",
      " - conda-forge\n",
      " - defaults\n",
      " - anaconda\n",
      "Platform: osx-arm64\n",
      "Collecting package metadata (repodata.json): done\n",
      "Solving environment: done\n",
      "\n",
      "## Package Plan ##\n",
      "\n",
      "  environment location: /opt/anaconda3/envs/housing_project\n",
      "\n",
      "  added / updated specs:\n",
      "    - pycaret\n",
      "\n",
      "\n",
      "The following packages will be UPDATED:\n",
      "\n",
      "  ca-certificates    pkgs/main::ca-certificates-2024.3.11-~ --> conda-forge::ca-certificates-2024.7.4-hf0a4a13_0 \n",
      "  openssl              pkgs/main::openssl-3.0.14-h80987f9_0 --> conda-forge::openssl-3.3.1-hfb2fe0b_1 \n",
      "\n",
      "The following packages will be SUPERSEDED by a higher-priority channel:\n",
      "\n",
      "  certifi            pkgs/main/osx-arm64::certifi-2024.6.2~ --> conda-forge/noarch::certifi-2024.6.2-pyhd8ed1ab_0 \n",
      "\n",
      "\n",
      "\n",
      "Downloading and Extracting Packages:\n",
      "\n",
      "Preparing transaction: done\n",
      "Verifying transaction: done\n",
      "Executing transaction: done\n",
      "\n",
      "Note: you may need to restart the kernel to use updated packages.\n"
     ]
    }
   ],
   "source": [
    "#conda install -c conda-forge pycaret"
   ]
  },
  {
   "cell_type": "code",
   "execution_count": 3,
   "metadata": {},
   "outputs": [],
   "source": [
    "from pycaret.classification import *"
   ]
  },
  {
   "cell_type": "code",
   "execution_count": null,
   "metadata": {},
   "outputs": [],
   "source": []
  },
  {
   "cell_type": "code",
   "execution_count": 8,
   "metadata": {},
   "outputs": [
    {
     "ename": "ValueError",
     "evalue": "The least populated class in y has only 1 member, which is too few. The minimum number of groups for any class cannot be less than 2.",
     "output_type": "error",
     "traceback": [
      "\u001b[0;31m---------------------------------------------------------------------------\u001b[0m",
      "\u001b[0;31mValueError\u001b[0m                                Traceback (most recent call last)",
      "Cell \u001b[0;32mIn[8], line 5\u001b[0m\n\u001b[1;32m      1\u001b[0m \u001b[38;5;66;03m#import mlflow\u001b[39;00m\n\u001b[1;32m      2\u001b[0m \u001b[38;5;66;03m#import mlflow.sklearn\u001b[39;00m\n\u001b[1;32m      3\u001b[0m \n\u001b[1;32m      4\u001b[0m \u001b[38;5;66;03m# Setup the environment in PyCaret\u001b[39;00m\n\u001b[0;32m----> 5\u001b[0m regression_setup \u001b[38;5;241m=\u001b[39m setup(\n\u001b[1;32m      6\u001b[0m     data\u001b[38;5;241m=\u001b[39mdf,\n\u001b[1;32m      7\u001b[0m     target \u001b[38;5;241m=\u001b[39m target_column,\n\u001b[1;32m      8\u001b[0m     session_id\u001b[38;5;241m=\u001b[39m\u001b[38;5;241m9\u001b[39m,\n\u001b[1;32m      9\u001b[0m     \u001b[38;5;66;03m#max_encoding_ohe=600, # columns with 600 or less categories will be One-hot encoded ELSE target encoding\u001b[39;00m\n\u001b[1;32m     10\u001b[0m     \u001b[38;5;66;03m#rare_to_value=0.008, # Categories with less than 0.008 (0.8%) of the data will be grouped into a new category (Other)\u001b[39;00m\n\u001b[1;32m     11\u001b[0m     \u001b[38;5;66;03m#rare_value='Other',\u001b[39;00m\n\u001b[1;32m     12\u001b[0m     fix_imbalance \u001b[38;5;241m=\u001b[39m \u001b[38;5;28;01mTrue\u001b[39;00m,\n\u001b[1;32m     13\u001b[0m     fix_imbalance_method \u001b[38;5;241m=\u001b[39m \u001b[38;5;124m'\u001b[39m\u001b[38;5;124mSMOTE\u001b[39m\u001b[38;5;124m'\u001b[39m,\n\u001b[1;32m     14\u001b[0m     transformation \u001b[38;5;241m=\u001b[39m \u001b[38;5;28;01mTrue\u001b[39;00m,\n\u001b[1;32m     15\u001b[0m     transformation_method \u001b[38;5;241m=\u001b[39m \u001b[38;5;124m'\u001b[39m\u001b[38;5;124myeo-johnson\u001b[39m\u001b[38;5;124m'\u001b[39m,\n\u001b[1;32m     16\u001b[0m     \u001b[38;5;66;03m#experiment_name='Clsfctn_tel_cust_ayushya_(dm)',\u001b[39;00m\n\u001b[1;32m     17\u001b[0m     log_experiment \u001b[38;5;241m=\u001b[39m \u001b[38;5;28;01mFalse\u001b[39;00m,\n\u001b[1;32m     18\u001b[0m     normalize\u001b[38;5;241m=\u001b[39m\u001b[38;5;28;01mTrue\u001b[39;00m,  \u001b[38;5;66;03m# True, False\u001b[39;00m\n\u001b[1;32m     19\u001b[0m     normalize_method\u001b[38;5;241m=\u001b[39m\u001b[38;5;124m'\u001b[39m\u001b[38;5;124mzscore\u001b[39m\u001b[38;5;124m'\u001b[39m,  \u001b[38;5;66;03m# 'zscore', 'minmax', 'maxabs', 'robust'\u001b[39;00m\n\u001b[1;32m     20\u001b[0m     n_jobs\u001b[38;5;241m=\u001b[39m\u001b[38;5;241m-\u001b[39m\u001b[38;5;241m1\u001b[39m)\n\u001b[1;32m     22\u001b[0m \u001b[38;5;66;03m# Start an MLflow run\u001b[39;00m\n\u001b[1;32m     23\u001b[0m mlflow\u001b[38;5;241m.\u001b[39mstart_run()\n",
      "File \u001b[0;32m/opt/anaconda3/lib/python3.11/site-packages/pycaret/classification/functional.py:595\u001b[0m, in \u001b[0;36msetup\u001b[0;34m(data, data_func, target, index, train_size, test_data, ordinal_features, numeric_features, categorical_features, date_features, text_features, ignore_features, keep_features, preprocess, create_date_columns, imputation_type, numeric_imputation, categorical_imputation, iterative_imputation_iters, numeric_iterative_imputer, categorical_iterative_imputer, text_features_method, max_encoding_ohe, encoding_method, rare_to_value, rare_value, polynomial_features, polynomial_degree, low_variance_threshold, group_features, drop_groups, remove_multicollinearity, multicollinearity_threshold, bin_numeric_features, remove_outliers, outliers_method, outliers_threshold, fix_imbalance, fix_imbalance_method, transformation, transformation_method, normalize, normalize_method, pca, pca_method, pca_components, feature_selection, feature_selection_method, feature_selection_estimator, n_features_to_select, custom_pipeline, custom_pipeline_position, data_split_shuffle, data_split_stratify, fold_strategy, fold, fold_shuffle, fold_groups, n_jobs, use_gpu, html, session_id, system_log, log_experiment, experiment_name, experiment_custom_tags, log_plots, log_profile, log_data, verbose, memory, profile, profile_kwargs)\u001b[0m\n\u001b[1;32m    593\u001b[0m exp \u001b[38;5;241m=\u001b[39m _EXPERIMENT_CLASS()\n\u001b[1;32m    594\u001b[0m set_current_experiment(exp)\n\u001b[0;32m--> 595\u001b[0m \u001b[38;5;28;01mreturn\u001b[39;00m exp\u001b[38;5;241m.\u001b[39msetup(\n\u001b[1;32m    596\u001b[0m     data\u001b[38;5;241m=\u001b[39mdata,\n\u001b[1;32m    597\u001b[0m     data_func\u001b[38;5;241m=\u001b[39mdata_func,\n\u001b[1;32m    598\u001b[0m     target\u001b[38;5;241m=\u001b[39mtarget,\n\u001b[1;32m    599\u001b[0m     index\u001b[38;5;241m=\u001b[39mindex,\n\u001b[1;32m    600\u001b[0m     train_size\u001b[38;5;241m=\u001b[39mtrain_size,\n\u001b[1;32m    601\u001b[0m     test_data\u001b[38;5;241m=\u001b[39mtest_data,\n\u001b[1;32m    602\u001b[0m     ordinal_features\u001b[38;5;241m=\u001b[39mordinal_features,\n\u001b[1;32m    603\u001b[0m     numeric_features\u001b[38;5;241m=\u001b[39mnumeric_features,\n\u001b[1;32m    604\u001b[0m     categorical_features\u001b[38;5;241m=\u001b[39mcategorical_features,\n\u001b[1;32m    605\u001b[0m     date_features\u001b[38;5;241m=\u001b[39mdate_features,\n\u001b[1;32m    606\u001b[0m     text_features\u001b[38;5;241m=\u001b[39mtext_features,\n\u001b[1;32m    607\u001b[0m     ignore_features\u001b[38;5;241m=\u001b[39mignore_features,\n\u001b[1;32m    608\u001b[0m     keep_features\u001b[38;5;241m=\u001b[39mkeep_features,\n\u001b[1;32m    609\u001b[0m     preprocess\u001b[38;5;241m=\u001b[39mpreprocess,\n\u001b[1;32m    610\u001b[0m     create_date_columns\u001b[38;5;241m=\u001b[39mcreate_date_columns,\n\u001b[1;32m    611\u001b[0m     imputation_type\u001b[38;5;241m=\u001b[39mimputation_type,\n\u001b[1;32m    612\u001b[0m     numeric_imputation\u001b[38;5;241m=\u001b[39mnumeric_imputation,\n\u001b[1;32m    613\u001b[0m     categorical_imputation\u001b[38;5;241m=\u001b[39mcategorical_imputation,\n\u001b[1;32m    614\u001b[0m     iterative_imputation_iters\u001b[38;5;241m=\u001b[39miterative_imputation_iters,\n\u001b[1;32m    615\u001b[0m     numeric_iterative_imputer\u001b[38;5;241m=\u001b[39mnumeric_iterative_imputer,\n\u001b[1;32m    616\u001b[0m     categorical_iterative_imputer\u001b[38;5;241m=\u001b[39mcategorical_iterative_imputer,\n\u001b[1;32m    617\u001b[0m     text_features_method\u001b[38;5;241m=\u001b[39mtext_features_method,\n\u001b[1;32m    618\u001b[0m     max_encoding_ohe\u001b[38;5;241m=\u001b[39mmax_encoding_ohe,\n\u001b[1;32m    619\u001b[0m     encoding_method\u001b[38;5;241m=\u001b[39mencoding_method,\n\u001b[1;32m    620\u001b[0m     rare_to_value\u001b[38;5;241m=\u001b[39mrare_to_value,\n\u001b[1;32m    621\u001b[0m     rare_value\u001b[38;5;241m=\u001b[39mrare_value,\n\u001b[1;32m    622\u001b[0m     polynomial_features\u001b[38;5;241m=\u001b[39mpolynomial_features,\n\u001b[1;32m    623\u001b[0m     polynomial_degree\u001b[38;5;241m=\u001b[39mpolynomial_degree,\n\u001b[1;32m    624\u001b[0m     low_variance_threshold\u001b[38;5;241m=\u001b[39mlow_variance_threshold,\n\u001b[1;32m    625\u001b[0m     group_features\u001b[38;5;241m=\u001b[39mgroup_features,\n\u001b[1;32m    626\u001b[0m     drop_groups\u001b[38;5;241m=\u001b[39mdrop_groups,\n\u001b[1;32m    627\u001b[0m     remove_multicollinearity\u001b[38;5;241m=\u001b[39mremove_multicollinearity,\n\u001b[1;32m    628\u001b[0m     multicollinearity_threshold\u001b[38;5;241m=\u001b[39mmulticollinearity_threshold,\n\u001b[1;32m    629\u001b[0m     bin_numeric_features\u001b[38;5;241m=\u001b[39mbin_numeric_features,\n\u001b[1;32m    630\u001b[0m     remove_outliers\u001b[38;5;241m=\u001b[39mremove_outliers,\n\u001b[1;32m    631\u001b[0m     outliers_method\u001b[38;5;241m=\u001b[39moutliers_method,\n\u001b[1;32m    632\u001b[0m     outliers_threshold\u001b[38;5;241m=\u001b[39moutliers_threshold,\n\u001b[1;32m    633\u001b[0m     fix_imbalance\u001b[38;5;241m=\u001b[39mfix_imbalance,\n\u001b[1;32m    634\u001b[0m     fix_imbalance_method\u001b[38;5;241m=\u001b[39mfix_imbalance_method,\n\u001b[1;32m    635\u001b[0m     transformation\u001b[38;5;241m=\u001b[39mtransformation,\n\u001b[1;32m    636\u001b[0m     transformation_method\u001b[38;5;241m=\u001b[39mtransformation_method,\n\u001b[1;32m    637\u001b[0m     normalize\u001b[38;5;241m=\u001b[39mnormalize,\n\u001b[1;32m    638\u001b[0m     normalize_method\u001b[38;5;241m=\u001b[39mnormalize_method,\n\u001b[1;32m    639\u001b[0m     pca\u001b[38;5;241m=\u001b[39mpca,\n\u001b[1;32m    640\u001b[0m     pca_method\u001b[38;5;241m=\u001b[39mpca_method,\n\u001b[1;32m    641\u001b[0m     pca_components\u001b[38;5;241m=\u001b[39mpca_components,\n\u001b[1;32m    642\u001b[0m     feature_selection\u001b[38;5;241m=\u001b[39mfeature_selection,\n\u001b[1;32m    643\u001b[0m     feature_selection_method\u001b[38;5;241m=\u001b[39mfeature_selection_method,\n\u001b[1;32m    644\u001b[0m     feature_selection_estimator\u001b[38;5;241m=\u001b[39mfeature_selection_estimator,\n\u001b[1;32m    645\u001b[0m     n_features_to_select\u001b[38;5;241m=\u001b[39mn_features_to_select,\n\u001b[1;32m    646\u001b[0m     custom_pipeline\u001b[38;5;241m=\u001b[39mcustom_pipeline,\n\u001b[1;32m    647\u001b[0m     custom_pipeline_position\u001b[38;5;241m=\u001b[39mcustom_pipeline_position,\n\u001b[1;32m    648\u001b[0m     data_split_shuffle\u001b[38;5;241m=\u001b[39mdata_split_shuffle,\n\u001b[1;32m    649\u001b[0m     data_split_stratify\u001b[38;5;241m=\u001b[39mdata_split_stratify,\n\u001b[1;32m    650\u001b[0m     fold_strategy\u001b[38;5;241m=\u001b[39mfold_strategy,\n\u001b[1;32m    651\u001b[0m     fold\u001b[38;5;241m=\u001b[39mfold,\n\u001b[1;32m    652\u001b[0m     fold_shuffle\u001b[38;5;241m=\u001b[39mfold_shuffle,\n\u001b[1;32m    653\u001b[0m     fold_groups\u001b[38;5;241m=\u001b[39mfold_groups,\n\u001b[1;32m    654\u001b[0m     n_jobs\u001b[38;5;241m=\u001b[39mn_jobs,\n\u001b[1;32m    655\u001b[0m     use_gpu\u001b[38;5;241m=\u001b[39muse_gpu,\n\u001b[1;32m    656\u001b[0m     html\u001b[38;5;241m=\u001b[39mhtml,\n\u001b[1;32m    657\u001b[0m     session_id\u001b[38;5;241m=\u001b[39msession_id,\n\u001b[1;32m    658\u001b[0m     system_log\u001b[38;5;241m=\u001b[39msystem_log,\n\u001b[1;32m    659\u001b[0m     log_experiment\u001b[38;5;241m=\u001b[39mlog_experiment,\n\u001b[1;32m    660\u001b[0m     experiment_name\u001b[38;5;241m=\u001b[39mexperiment_name,\n\u001b[1;32m    661\u001b[0m     experiment_custom_tags\u001b[38;5;241m=\u001b[39mexperiment_custom_tags,\n\u001b[1;32m    662\u001b[0m     log_plots\u001b[38;5;241m=\u001b[39mlog_plots,\n\u001b[1;32m    663\u001b[0m     log_profile\u001b[38;5;241m=\u001b[39mlog_profile,\n\u001b[1;32m    664\u001b[0m     log_data\u001b[38;5;241m=\u001b[39mlog_data,\n\u001b[1;32m    665\u001b[0m     verbose\u001b[38;5;241m=\u001b[39mverbose,\n\u001b[1;32m    666\u001b[0m     memory\u001b[38;5;241m=\u001b[39mmemory,\n\u001b[1;32m    667\u001b[0m     profile\u001b[38;5;241m=\u001b[39mprofile,\n\u001b[1;32m    668\u001b[0m     profile_kwargs\u001b[38;5;241m=\u001b[39mprofile_kwargs,\n\u001b[1;32m    669\u001b[0m )\n",
      "File \u001b[0;32m/opt/anaconda3/lib/python3.11/site-packages/pycaret/classification/oop.py:758\u001b[0m, in \u001b[0;36mClassificationExperiment.setup\u001b[0;34m(self, data, data_func, target, index, train_size, test_data, ordinal_features, numeric_features, categorical_features, date_features, text_features, ignore_features, keep_features, preprocess, create_date_columns, imputation_type, numeric_imputation, categorical_imputation, iterative_imputation_iters, numeric_iterative_imputer, categorical_iterative_imputer, text_features_method, max_encoding_ohe, encoding_method, rare_to_value, rare_value, polynomial_features, polynomial_degree, low_variance_threshold, group_features, drop_groups, remove_multicollinearity, multicollinearity_threshold, bin_numeric_features, remove_outliers, outliers_method, outliers_threshold, fix_imbalance, fix_imbalance_method, transformation, transformation_method, normalize, normalize_method, pca, pca_method, pca_components, feature_selection, feature_selection_method, feature_selection_estimator, n_features_to_select, custom_pipeline, custom_pipeline_position, data_split_shuffle, data_split_stratify, fold_strategy, fold, fold_shuffle, fold_groups, n_jobs, use_gpu, html, session_id, system_log, log_experiment, experiment_name, experiment_custom_tags, log_plots, log_profile, log_data, engine, verbose, memory, profile, profile_kwargs)\u001b[0m\n\u001b[1;32m    748\u001b[0m \u001b[38;5;28mself\u001b[39m\u001b[38;5;241m.\u001b[39mdata_split_shuffle \u001b[38;5;241m=\u001b[39m data_split_shuffle\n\u001b[1;32m    750\u001b[0m \u001b[38;5;28mself\u001b[39m\u001b[38;5;241m.\u001b[39m_prepare_folds(\n\u001b[1;32m    751\u001b[0m     fold_strategy\u001b[38;5;241m=\u001b[39mfold_strategy,\n\u001b[1;32m    752\u001b[0m     fold\u001b[38;5;241m=\u001b[39mfold,\n\u001b[0;32m   (...)\u001b[0m\n\u001b[1;32m    755\u001b[0m     data_split_shuffle\u001b[38;5;241m=\u001b[39mdata_split_shuffle,\n\u001b[1;32m    756\u001b[0m )\n\u001b[0;32m--> 758\u001b[0m \u001b[38;5;28mself\u001b[39m\u001b[38;5;241m.\u001b[39m_prepare_train_test(\n\u001b[1;32m    759\u001b[0m     train_size\u001b[38;5;241m=\u001b[39mtrain_size,\n\u001b[1;32m    760\u001b[0m     test_data\u001b[38;5;241m=\u001b[39mtest_data,\n\u001b[1;32m    761\u001b[0m     data_split_stratify\u001b[38;5;241m=\u001b[39mdata_split_stratify,\n\u001b[1;32m    762\u001b[0m     data_split_shuffle\u001b[38;5;241m=\u001b[39mdata_split_shuffle,\n\u001b[1;32m    763\u001b[0m )\n\u001b[1;32m    765\u001b[0m \u001b[38;5;28mself\u001b[39m\u001b[38;5;241m.\u001b[39m_prepare_column_types(\n\u001b[1;32m    766\u001b[0m     ordinal_features\u001b[38;5;241m=\u001b[39mordinal_features,\n\u001b[1;32m    767\u001b[0m     numeric_features\u001b[38;5;241m=\u001b[39mnumeric_features,\n\u001b[0;32m   (...)\u001b[0m\n\u001b[1;32m    772\u001b[0m     keep_features\u001b[38;5;241m=\u001b[39mkeep_features,\n\u001b[1;32m    773\u001b[0m )\n\u001b[1;32m    775\u001b[0m \u001b[38;5;28mself\u001b[39m\u001b[38;5;241m.\u001b[39m_set_exp_model_engines(\n\u001b[1;32m    776\u001b[0m     container_default_engines\u001b[38;5;241m=\u001b[39mget_container_default_engines(),\n\u001b[1;32m    777\u001b[0m     engine\u001b[38;5;241m=\u001b[39mengine,\n\u001b[1;32m    778\u001b[0m )\n",
      "File \u001b[0;32m/opt/anaconda3/lib/python3.11/site-packages/pycaret/internal/preprocess/preprocessor.py:236\u001b[0m, in \u001b[0;36mPreprocessor._prepare_train_test\u001b[0;34m(self, train_size, test_data, data_split_stratify, data_split_shuffle)\u001b[0m\n\u001b[1;32m    233\u001b[0m     \u001b[38;5;28mself\u001b[39m\u001b[38;5;241m.\u001b[39mdata\u001b[38;5;241m.\u001b[39mindex \u001b[38;5;241m=\u001b[39m \u001b[38;5;28mself\u001b[39m\u001b[38;5;241m.\u001b[39mindex\n\u001b[1;32m    235\u001b[0m \u001b[38;5;66;03m# self.data is already prepared here\u001b[39;00m\n\u001b[0;32m--> 236\u001b[0m train, test \u001b[38;5;241m=\u001b[39m train_test_split(\n\u001b[1;32m    237\u001b[0m     \u001b[38;5;28mself\u001b[39m\u001b[38;5;241m.\u001b[39mdata,\n\u001b[1;32m    238\u001b[0m     train_size\u001b[38;5;241m=\u001b[39mtrain_size,\n\u001b[1;32m    239\u001b[0m     stratify\u001b[38;5;241m=\u001b[39mget_columns_to_stratify_by(\n\u001b[1;32m    240\u001b[0m         \u001b[38;5;28mself\u001b[39m\u001b[38;5;241m.\u001b[39mX, \u001b[38;5;28mself\u001b[39m\u001b[38;5;241m.\u001b[39my, data_split_stratify\n\u001b[1;32m    241\u001b[0m     ),\n\u001b[1;32m    242\u001b[0m     random_state\u001b[38;5;241m=\u001b[39m\u001b[38;5;28mself\u001b[39m\u001b[38;5;241m.\u001b[39mseed,\n\u001b[1;32m    243\u001b[0m     shuffle\u001b[38;5;241m=\u001b[39mdata_split_shuffle,\n\u001b[1;32m    244\u001b[0m )\n\u001b[1;32m    245\u001b[0m \u001b[38;5;28mself\u001b[39m\u001b[38;5;241m.\u001b[39mdata \u001b[38;5;241m=\u001b[39m \u001b[38;5;28mself\u001b[39m\u001b[38;5;241m.\u001b[39m_set_index(pd\u001b[38;5;241m.\u001b[39mconcat([train, test]))\n\u001b[1;32m    246\u001b[0m \u001b[38;5;28mself\u001b[39m\u001b[38;5;241m.\u001b[39midx \u001b[38;5;241m=\u001b[39m [\u001b[38;5;28mself\u001b[39m\u001b[38;5;241m.\u001b[39mdata\u001b[38;5;241m.\u001b[39mindex[: \u001b[38;5;28mlen\u001b[39m(train)], \u001b[38;5;28mself\u001b[39m\u001b[38;5;241m.\u001b[39mdata\u001b[38;5;241m.\u001b[39mindex[\u001b[38;5;241m-\u001b[39m\u001b[38;5;28mlen\u001b[39m(test) :]]\n",
      "File \u001b[0;32m/opt/anaconda3/lib/python3.11/site-packages/sklearn/utils/_param_validation.py:213\u001b[0m, in \u001b[0;36mvalidate_params.<locals>.decorator.<locals>.wrapper\u001b[0;34m(*args, **kwargs)\u001b[0m\n\u001b[1;32m    207\u001b[0m \u001b[38;5;28;01mtry\u001b[39;00m:\n\u001b[1;32m    208\u001b[0m     \u001b[38;5;28;01mwith\u001b[39;00m config_context(\n\u001b[1;32m    209\u001b[0m         skip_parameter_validation\u001b[38;5;241m=\u001b[39m(\n\u001b[1;32m    210\u001b[0m             prefer_skip_nested_validation \u001b[38;5;129;01mor\u001b[39;00m global_skip_validation\n\u001b[1;32m    211\u001b[0m         )\n\u001b[1;32m    212\u001b[0m     ):\n\u001b[0;32m--> 213\u001b[0m         \u001b[38;5;28;01mreturn\u001b[39;00m func(\u001b[38;5;241m*\u001b[39margs, \u001b[38;5;241m*\u001b[39m\u001b[38;5;241m*\u001b[39mkwargs)\n\u001b[1;32m    214\u001b[0m \u001b[38;5;28;01mexcept\u001b[39;00m InvalidParameterError \u001b[38;5;28;01mas\u001b[39;00m e:\n\u001b[1;32m    215\u001b[0m     \u001b[38;5;66;03m# When the function is just a wrapper around an estimator, we allow\u001b[39;00m\n\u001b[1;32m    216\u001b[0m     \u001b[38;5;66;03m# the function to delegate validation to the estimator, but we replace\u001b[39;00m\n\u001b[1;32m    217\u001b[0m     \u001b[38;5;66;03m# the name of the estimator by the name of the function in the error\u001b[39;00m\n\u001b[1;32m    218\u001b[0m     \u001b[38;5;66;03m# message to avoid confusion.\u001b[39;00m\n\u001b[1;32m    219\u001b[0m     msg \u001b[38;5;241m=\u001b[39m re\u001b[38;5;241m.\u001b[39msub(\n\u001b[1;32m    220\u001b[0m         \u001b[38;5;124mr\u001b[39m\u001b[38;5;124m\"\u001b[39m\u001b[38;5;124mparameter of \u001b[39m\u001b[38;5;124m\\\u001b[39m\u001b[38;5;124mw+ must be\u001b[39m\u001b[38;5;124m\"\u001b[39m,\n\u001b[1;32m    221\u001b[0m         \u001b[38;5;124mf\u001b[39m\u001b[38;5;124m\"\u001b[39m\u001b[38;5;124mparameter of \u001b[39m\u001b[38;5;132;01m{\u001b[39;00mfunc\u001b[38;5;241m.\u001b[39m\u001b[38;5;18m__qualname__\u001b[39m\u001b[38;5;132;01m}\u001b[39;00m\u001b[38;5;124m must be\u001b[39m\u001b[38;5;124m\"\u001b[39m,\n\u001b[1;32m    222\u001b[0m         \u001b[38;5;28mstr\u001b[39m(e),\n\u001b[1;32m    223\u001b[0m     )\n",
      "File \u001b[0;32m/opt/anaconda3/lib/python3.11/site-packages/sklearn/model_selection/_split.py:2681\u001b[0m, in \u001b[0;36mtrain_test_split\u001b[0;34m(test_size, train_size, random_state, shuffle, stratify, *arrays)\u001b[0m\n\u001b[1;32m   2677\u001b[0m         CVClass \u001b[38;5;241m=\u001b[39m ShuffleSplit\n\u001b[1;32m   2679\u001b[0m     cv \u001b[38;5;241m=\u001b[39m CVClass(test_size\u001b[38;5;241m=\u001b[39mn_test, train_size\u001b[38;5;241m=\u001b[39mn_train, random_state\u001b[38;5;241m=\u001b[39mrandom_state)\n\u001b[0;32m-> 2681\u001b[0m     train, test \u001b[38;5;241m=\u001b[39m \u001b[38;5;28mnext\u001b[39m(cv\u001b[38;5;241m.\u001b[39msplit(X\u001b[38;5;241m=\u001b[39marrays[\u001b[38;5;241m0\u001b[39m], y\u001b[38;5;241m=\u001b[39mstratify))\n\u001b[1;32m   2683\u001b[0m \u001b[38;5;28;01mreturn\u001b[39;00m \u001b[38;5;28mlist\u001b[39m(\n\u001b[1;32m   2684\u001b[0m     chain\u001b[38;5;241m.\u001b[39mfrom_iterable(\n\u001b[1;32m   2685\u001b[0m         (_safe_indexing(a, train), _safe_indexing(a, test)) \u001b[38;5;28;01mfor\u001b[39;00m a \u001b[38;5;129;01min\u001b[39;00m arrays\n\u001b[1;32m   2686\u001b[0m     )\n\u001b[1;32m   2687\u001b[0m )\n",
      "File \u001b[0;32m/opt/anaconda3/lib/python3.11/site-packages/sklearn/model_selection/_split.py:1749\u001b[0m, in \u001b[0;36mBaseShuffleSplit.split\u001b[0;34m(self, X, y, groups)\u001b[0m\n\u001b[1;32m   1719\u001b[0m \u001b[38;5;250m\u001b[39m\u001b[38;5;124;03m\"\"\"Generate indices to split data into training and test set.\u001b[39;00m\n\u001b[1;32m   1720\u001b[0m \n\u001b[1;32m   1721\u001b[0m \u001b[38;5;124;03mParameters\u001b[39;00m\n\u001b[0;32m   (...)\u001b[0m\n\u001b[1;32m   1746\u001b[0m \u001b[38;5;124;03mto an integer.\u001b[39;00m\n\u001b[1;32m   1747\u001b[0m \u001b[38;5;124;03m\"\"\"\u001b[39;00m\n\u001b[1;32m   1748\u001b[0m X, y, groups \u001b[38;5;241m=\u001b[39m indexable(X, y, groups)\n\u001b[0;32m-> 1749\u001b[0m \u001b[38;5;28;01mfor\u001b[39;00m train, test \u001b[38;5;129;01min\u001b[39;00m \u001b[38;5;28mself\u001b[39m\u001b[38;5;241m.\u001b[39m_iter_indices(X, y, groups):\n\u001b[1;32m   1750\u001b[0m     \u001b[38;5;28;01myield\u001b[39;00m train, test\n",
      "File \u001b[0;32m/opt/anaconda3/lib/python3.11/site-packages/sklearn/model_selection/_split.py:2150\u001b[0m, in \u001b[0;36mStratifiedShuffleSplit._iter_indices\u001b[0;34m(self, X, y, groups)\u001b[0m\n\u001b[1;32m   2148\u001b[0m class_counts \u001b[38;5;241m=\u001b[39m np\u001b[38;5;241m.\u001b[39mbincount(y_indices)\n\u001b[1;32m   2149\u001b[0m \u001b[38;5;28;01mif\u001b[39;00m np\u001b[38;5;241m.\u001b[39mmin(class_counts) \u001b[38;5;241m<\u001b[39m \u001b[38;5;241m2\u001b[39m:\n\u001b[0;32m-> 2150\u001b[0m     \u001b[38;5;28;01mraise\u001b[39;00m \u001b[38;5;167;01mValueError\u001b[39;00m(\n\u001b[1;32m   2151\u001b[0m         \u001b[38;5;124m\"\u001b[39m\u001b[38;5;124mThe least populated class in y has only 1\u001b[39m\u001b[38;5;124m\"\u001b[39m\n\u001b[1;32m   2152\u001b[0m         \u001b[38;5;124m\"\u001b[39m\u001b[38;5;124m member, which is too few. The minimum\u001b[39m\u001b[38;5;124m\"\u001b[39m\n\u001b[1;32m   2153\u001b[0m         \u001b[38;5;124m\"\u001b[39m\u001b[38;5;124m number of groups for any class cannot\u001b[39m\u001b[38;5;124m\"\u001b[39m\n\u001b[1;32m   2154\u001b[0m         \u001b[38;5;124m\"\u001b[39m\u001b[38;5;124m be less than 2.\u001b[39m\u001b[38;5;124m\"\u001b[39m\n\u001b[1;32m   2155\u001b[0m     )\n\u001b[1;32m   2157\u001b[0m \u001b[38;5;28;01mif\u001b[39;00m n_train \u001b[38;5;241m<\u001b[39m n_classes:\n\u001b[1;32m   2158\u001b[0m     \u001b[38;5;28;01mraise\u001b[39;00m \u001b[38;5;167;01mValueError\u001b[39;00m(\n\u001b[1;32m   2159\u001b[0m         \u001b[38;5;124m\"\u001b[39m\u001b[38;5;124mThe train_size = \u001b[39m\u001b[38;5;132;01m%d\u001b[39;00m\u001b[38;5;124m should be greater or \u001b[39m\u001b[38;5;124m\"\u001b[39m\n\u001b[1;32m   2160\u001b[0m         \u001b[38;5;124m\"\u001b[39m\u001b[38;5;124mequal to the number of classes = \u001b[39m\u001b[38;5;132;01m%d\u001b[39;00m\u001b[38;5;124m\"\u001b[39m \u001b[38;5;241m%\u001b[39m (n_train, n_classes)\n\u001b[1;32m   2161\u001b[0m     )\n",
      "\u001b[0;31mValueError\u001b[0m: The least populated class in y has only 1 member, which is too few. The minimum number of groups for any class cannot be less than 2."
     ]
    }
   ],
   "source": [
    "#import mlflow\n",
    "#import mlflow.sklearn\n",
    "\n",
    "# Setup the environment in PyCaret\n",
    "regression_setup = setup(\n",
    "    data=df,\n",
    "    target = target_column,\n",
    "    session_id=9,\n",
    "    #max_encoding_ohe=600, # columns with 600 or less categories will be One-hot encoded ELSE target encoding\n",
    "    #rare_to_value=0.008, # Categories with less than 0.008 (0.8%) of the data will be grouped into a new category (Other)\n",
    "    #rare_value='Other',\n",
    "    fix_imbalance = True,\n",
    "    fix_imbalance_method = 'SMOTE',\n",
    "    transformation = True,\n",
    "    transformation_method = 'yeo-johnson',\n",
    "    #experiment_name='Clsfctn_tel_cust_ayushya_(dm)',\n",
    "    log_experiment = False,\n",
    "    normalize=True,  # True, False\n",
    "    normalize_method='zscore',  # 'zscore', 'minmax', 'maxabs', 'robust'\n",
    "    n_jobs=-1)\n",
    "\n",
    "# Start an MLflow run\n",
    "mlflow.start_run()\n",
    "\n",
    "# Log the parameters and metrics with MLflow\n",
    "best_model = compare_models()\n",
    "\n",
    "# Log the best model with MLflow\n",
    "mlflow.sklearn.log_model(best_model, \"best_model\")\n",
    "\n",
    "# Get the comparison results\n",
    "comparison_results = pull()\n",
    "\n",
    "# Log metrics\n",
    "for index, row in comparison_results.iterrows():\n",
    "    mlflow.log_metric(f\"{row['Model']}_RMSE\", row['RMSE'])\n",
    "    mlflow.log_metric(f\"{row['Model']}_R2\", row['R2'])\n",
    "\n",
    "# End the MLflow run\n",
    "mlflow.end_run()\n",
    "\n",
    "# Save the best model\n",
    "save_model(best_model, 'best_regression_model')\n",
    "\n",
    "# Load the model later if needed\n",
    "# loaded_model = load_model('best_regression_model')\n",
    "\n",
    "# Predict on the test set\n",
    "predictions = predict_model(best_model)\n",
    "print(predictions)\n",
    "\n",
    "# Use Ngrok to expose the MLflow UI\n",
    "from pyngrok import ngrok\n",
    "\n",
    "# Start MLflow UI\n",
    "get_ipython().system_raw(\"mlflow ui --port 5000 &\")\n",
    "\n",
    "# Expose the MLflow UI using Ngrok\n",
    "ngrok_tunnel = ngrok.connect(5000)\n",
    "print(\"MLflow UI is running at:\", ngrok_tunnel.public_url)\n",
    "\n",
    "# Open the MLflow UI in your browser\n",
    "import webbrowser\n",
    "webbrowser.open(ngrok_tunnel.public_url)"
   ]
  },
  {
   "cell_type": "code",
   "execution_count": null,
   "metadata": {},
   "outputs": [],
   "source": []
  }
 ],
 "metadata": {
  "kernelspec": {
   "display_name": "constructor",
   "language": "python",
   "name": "constructor"
  },
  "language_info": {
   "codemirror_mode": {
    "name": "ipython",
    "version": 3
   },
   "file_extension": ".py",
   "mimetype": "text/x-python",
   "name": "python",
   "nbconvert_exporter": "python",
   "pygments_lexer": "ipython3",
   "version": "3.11.8"
  }
 },
 "nbformat": 4,
 "nbformat_minor": 4
}
