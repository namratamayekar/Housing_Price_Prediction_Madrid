{
  "cells": [
    {
      "cell_type": "code",
      "execution_count": 1,
      "metadata": {
        "id": "vHD12TqQEHd2"
      },
      "outputs": [],
      "source": [
        "# Import necessary libraries\n",
        "import pandas as pd\n",
        "import numpy as np\n",
        "from pycaret.classification import *\n",
        "import json\n",
        "\n",
        "# Visualization\n",
        "import seaborn as sns\n",
        "import matplotlib.pyplot as plt\n",
        "plt.style.use(\"fivethirtyeight\")\n",
        "\n",
        "from sklearn.manifold import TSNE\n",
        "from sklearn.cluster import KMeans\n",
        "from sklearn.decomposition import PCA\n",
        "\n",
        "from sklearn.metrics import f1_score\n",
        "from sklearn.linear_model import LogisticRegression, RidgeClassifier, Lasso, ElasticNet\n",
        "from sklearn.impute import SimpleImputer\n",
        "from sklearn.preprocessing import StandardScaler, OneHotEncoder\n",
        "\n",
        "from sklearn.model_selection import train_test_split\n",
        "from sklearn.compose import ColumnTransformer\n",
        "from sklearn.pipeline import Pipeline\n",
        "from sklearn.preprocessing import StandardScaler, OneHotEncoder\n",
        "from sklearn.linear_model import LinearRegression, Ridge, Lasso\n",
        "from sklearn.ensemble import RandomForestRegressor, GradientBoostingRegressor\n",
        "from sklearn.metrics import mean_squared_error, r2_score\n",
        "from pycaret.regression import *\n",
        "from sklearn.metrics import silhouette_samples, silhouette_score\n",
        "import math\n",
        "import random\n",
        "import matplotlib.ticker as mtick\n",
        "import re\n",
        "\n",
        "from sklearn.decomposition import PCA\n",
        "from sklearn.preprocessing import LabelEncoder\n",
        "\n",
        "from neighborhoods import admin_wards\n",
        "from neighborhoods import district_neighborhoods"
      ]
    },
    {
      "cell_type": "code",
      "execution_count": 2,
      "metadata": {},
      "outputs": [],
      "source": [
        "random.seed(42)"
      ]
    },
    {
      "cell_type": "code",
      "execution_count": 3,
      "metadata": {
        "colab": {
          "base_uri": "https://localhost:8080/"
        },
        "id": "4jGyjddPEHd4",
        "outputId": "cddf51af-5ea2-4442-a8dd-8d29b2801543"
      },
      "outputs": [
        {
          "data": {
            "text/plain": [
              "(1066, 9)"
            ]
          },
          "execution_count": 3,
          "metadata": {},
          "output_type": "execute_result"
        }
      ],
      "source": [
        "# Load the dataset\n",
        "df = pd.read_csv('../data/raw/scraped_data_Emanuela.csv')\n",
        "df.shape"
      ]
    },
    {
      "cell_type": "code",
      "execution_count": 4,
      "metadata": {},
      "outputs": [],
      "source": [
        "not_fount = []\n",
        "for item in set(df['neighborhood'].values):\n",
        "    if item not in admin_wards:\n",
        "        not_found.append(item)"
      ]
    },
    {
      "cell_type": "code",
      "execution_count": 5,
      "metadata": {},
      "outputs": [],
      "source": [
        "def replace_str_values(df, column, input_tuple_list):\n",
        "    for item in input_tuple_list:\n",
        "        df[column] = df[column].str.replace(item[0], item[1])\n",
        "    return df\n"
      ]
    },
    {
      "cell_type": "markdown",
      "metadata": {},
      "source": [
        "# Sports Centers"
      ]
    },
    {
      "cell_type": "code",
      "execution_count": 6,
      "metadata": {},
      "outputs": [],
      "source": [
        "df_sports = pd.read_csv('../data/raw/sports_centers.csv', encoding='utf-8')\n",
        "df_sports = df_sports[['BARRIO']]\n",
        "df_sports = df_sports.dropna()\n",
        "df_sports['BARRIO'] = df_sports['BARRIO'].apply(lambda x: x.capitalize())"
      ]
    },
    {
      "cell_type": "code",
      "execution_count": 7,
      "metadata": {},
      "outputs": [
        {
          "data": {
            "text/plain": [
              "37"
            ]
          },
          "execution_count": 7,
          "metadata": {},
          "output_type": "execute_result"
        }
      ],
      "source": [
        "not_found = []\n",
        "\n",
        "for barrio in set(df_sports['BARRIO'].values):\n",
        "    if barrio not in admin_wards:\n",
        "        not_found.append(barrio)\n",
        "\n",
        "len(not_found)"
      ]
    },
    {
      "cell_type": "code",
      "execution_count": 8,
      "metadata": {},
      "outputs": [],
      "source": [
        "admin_wards_lower = [barrio.lower() for barrio in admin_wards]\n",
        "\n",
        "for barrio in not_found:\n",
        "    if barrio.lower() in admin_wards_lower:\n",
        "        index = admin_wards_lower.index(barrio.lower())\n",
        "        new_value = admin_wards[index]\n",
        "        df_sports['BARRIO'] = df_sports['BARRIO'].replace(barrio, new_value)"
      ]
    },
    {
      "cell_type": "code",
      "execution_count": 9,
      "metadata": {},
      "outputs": [
        {
          "data": {
            "text/plain": [
              "20"
            ]
          },
          "execution_count": 9,
          "metadata": {},
          "output_type": "execute_result"
        }
      ],
      "source": [
        "not_found = []\n",
        "\n",
        "for barrio in set(df_sports['BARRIO'].values):\n",
        "    if barrio not in admin_wards:\n",
        "        not_found.append(barrio)\n",
        "\n",
        "len(not_found)"
      ]
    },
    {
      "cell_type": "code",
      "execution_count": 10,
      "metadata": {},
      "outputs": [],
      "source": [
        "input_tuple_list = [('Casco h.vallecas', 'Casco Histórico de Vallecas'), \n",
        "                    ('Casco h.vicalvaro', 'Casco Histórico de Vicálvaro'), \n",
        "                    ('Los jeronimos', 'Los Jerónimos'), \n",
        "                    ('Los angeles', 'Los Ángeles'),\n",
        "                    ('Ciudad jardin', 'Ciudad Jardín'),\n",
        "                    ('El pilar', 'Pilar'),\n",
        "                    ('Villaverde alto c.h.', 'Villaverde Alto'),\n",
        "                    ('Moscardo', 'Moscardó'),\n",
        "                    ('Puerta del angel', 'Puerta del Ángel'),\n",
        "                    ('Fontarron', 'Fontarrón'),\n",
        "                    ('Las aguilas', 'Las Águilas'),\n",
        "                    ('Hispanoamerica', 'Hispanoamérica'),\n",
        "                    ('Pacifico', 'Pacífico'),\n",
        "                    ('El salvador', 'Salvador'),\n",
        "                    ('Concepcion', 'Concepción'),\n",
        "                    ('Niño jesus', 'Niño Jesús'),\n",
        "                    ('Arguelles', 'Argüelles'),\n",
        "                    ('Peña grande', 'Peñagrande'),\n",
        "                    ('Entrevias', 'Entrevías'),\n",
        "                    ('Rios rosas', 'Ríos Rosas'),\n",
        "                    ('Apostol santiago', 'Apóstol Santiago'),\n",
        "                    ('Ambroz', 'Casco Histórico de Vicálvaro'),\n",
        "                    ('Los carmenes', 'Los Cármenes'),\n",
        "                    ('El plantio', 'El Plantío'),\n",
        "                    ('San andres', 'San Andrés'),\n",
        "                    ('Zofio', 'Zofío'),\n",
        "                    ('Timon', 'Timón'),\n",
        "                    ('Hellin', 'Hellín'),\n",
        "                    ('Valdemarin', 'Valdemarín'),\n",
        "                    ('Casco h.vicálvaro', 'Casco Histórico de Vicálvaro'),\n",
        "                    ('Casco h.barajas', 'Casco Histórico de Barajas'),\n",
        "                    ('Palos de la frontera', 'Palos de Moguer'),\n",
        "                    ('San fermin', 'San Fermín'),\n",
        "                    ('San cristobal', 'San Cristóbal'),\n",
        "                    ('Justicia/ centro', 'Justicia')\n",
        "                    ]"
      ]
    },
    {
      "cell_type": "code",
      "execution_count": 11,
      "metadata": {},
      "outputs": [
        {
          "data": {
            "text/plain": [
              "['Peña grande',\n",
              " 'Entrevias',\n",
              " 'El pilar',\n",
              " 'Casco h.vicalvaro',\n",
              " 'Apostol santiago',\n",
              " 'Pacifico',\n",
              " 'Casco h.vallecas',\n",
              " 'Justicia/ centro',\n",
              " 'San andres',\n",
              " 'Los carmenes',\n",
              " 'Zofio',\n",
              " 'San cristobal',\n",
              " 'Ciudad jardin',\n",
              " 'San fermin',\n",
              " 'Los jeronimos',\n",
              " 'Hellin',\n",
              " 'Moscardo',\n",
              " 'Las aguilas',\n",
              " 'Ambroz',\n",
              " 'Concepcion']"
            ]
          },
          "execution_count": 11,
          "metadata": {},
          "output_type": "execute_result"
        }
      ],
      "source": [
        "not_found = []\n",
        "\n",
        "for barrio in set(df_sports['BARRIO'].values):\n",
        "    if barrio not in admin_wards:\n",
        "        not_found.append(barrio)\n",
        "\n",
        "not_found"
      ]
    },
    {
      "cell_type": "code",
      "execution_count": 12,
      "metadata": {},
      "outputs": [],
      "source": [
        "df_sports = replace_str_values(df_sports, 'BARRIO', input_tuple_list)"
      ]
    },
    {
      "cell_type": "code",
      "execution_count": 13,
      "metadata": {},
      "outputs": [
        {
          "data": {
            "text/plain": [
              "[]"
            ]
          },
          "execution_count": 13,
          "metadata": {},
          "output_type": "execute_result"
        }
      ],
      "source": [
        "not_found = []\n",
        "\n",
        "for barrio in set(df_sports['BARRIO'].values):\n",
        "    if barrio not in admin_wards:\n",
        "        not_found.append(barrio)\n",
        "\n",
        "not_found"
      ]
    },
    {
      "cell_type": "code",
      "execution_count": 14,
      "metadata": {},
      "outputs": [],
      "source": [
        "df_sports['sports_centers'] = 1\n",
        "df_sports = df_sports.groupby('BARRIO').sum('sports_centers').reset_index()\n",
        "df_sports = df_sports.rename(columns={'BARRIO': 'neighborhood'})\n",
        "df = df.merge(df_sports, on='neighborhood', how='left')\n",
        "df['sports_centers'] = df['sports_centers'].fillna(0)"
      ]
    },
    {
      "cell_type": "markdown",
      "metadata": {},
      "source": [
        "# Wellness Indices"
      ]
    },
    {
      "cell_type": "code",
      "execution_count": 15,
      "metadata": {},
      "outputs": [],
      "source": [
        "df_wellness = pd.read_csv('../data/raw/wellness_index.csv', encoding='utf-8')\n",
        "max_year = df_wellness['Fecha datos'].max()\n",
        "df_wellness = df_wellness[df_wellness['Fecha datos']==max_year]"
      ]
    },
    {
      "cell_type": "code",
      "execution_count": 16,
      "metadata": {},
      "outputs": [],
      "source": [
        "df_wellness = df_wellness[['Nombre barrio', \n",
        "                           'Índice de Vulnerabilidad Bienestar Social e Igualdad', \n",
        "                           'Índice de Vulnerabilidad Medio Ambiente Urbano y Movilidad',\n",
        "                           'Índice de Vulnerabilidad Educación y Cultura',\n",
        "                           'Índice de Vulnerabilidad Economía y Empleo',\n",
        "                           'Índice de Vulnerabilidad Salud'\n",
        "                           ]]"
      ]
    },
    {
      "cell_type": "code",
      "execution_count": 17,
      "metadata": {},
      "outputs": [],
      "source": [
        "df_wellness = df_wellness.rename(columns={\n",
        "    'Nombre barrio': 'neighborhood', \n",
        "    'Índice de Vulnerabilidad Bienestar Social e Igualdad': 'social_wellness_index', \n",
        "    'Índice de Vulnerabilidad Medio Ambiente Urbano y Movilidad': 'urban_mobility_index',\n",
        "    'Índice de Vulnerabilidad Educación y Cultura': 'education_index',\n",
        "    'Índice de Vulnerabilidad Economía y Empleo': 'employment_index',\n",
        "    'Índice de Vulnerabilidad Salud': 'health_index'\n",
        "})"
      ]
    },
    {
      "cell_type": "code",
      "execution_count": 18,
      "metadata": {},
      "outputs": [
        {
          "data": {
            "text/plain": [
              "['Casco histórico de Vicálvaro',\n",
              " 'Apostol Santiago',\n",
              " 'Palos de la Frontera',\n",
              " 'Cármenes',\n",
              " 'Rios Rosas',\n",
              " 'Villaverde Alto, Casco Histórico de Villaverde',\n",
              " 'Fuentelareina',\n",
              " 'Águilas']"
            ]
          },
          "execution_count": 18,
          "metadata": {},
          "output_type": "execute_result"
        }
      ],
      "source": [
        "not_found = []\n",
        "\n",
        "for barrio in set(df_wellness['neighborhood'].values):\n",
        "    if barrio not in admin_wards:\n",
        "        not_found.append(barrio)\n",
        "\n",
        "not_found"
      ]
    },
    {
      "cell_type": "code",
      "execution_count": 19,
      "metadata": {},
      "outputs": [],
      "source": [
        "input_tuple_list = [('Apostol Santiago', 'Apóstol Santiago'), \n",
        "                    ('Fuentelareina', 'Fuentelarreina'),\n",
        "                    ('Villaverde Alto, Casco Histórico de Villaverde', 'Villaverde Alto'),\n",
        "                    ('Águilas','Las Águilas'),\n",
        "                    ('Cármenes', 'Los Cármenes'),\n",
        "                    ('Casco histórico de Vicálvaro', 'Casco Histórico de Vicálvaro'),\n",
        "                    ('Palos de la Frontera', 'Palos de Moguer'),\n",
        "                    ('Rios Rosas', 'Ríos Rosas')\n",
        "                    ]"
      ]
    },
    {
      "cell_type": "code",
      "execution_count": 20,
      "metadata": {},
      "outputs": [],
      "source": [
        "df_wellness = replace_str_values(df_wellness, 'neighborhood', input_tuple_list)"
      ]
    },
    {
      "cell_type": "code",
      "execution_count": 21,
      "metadata": {},
      "outputs": [
        {
          "data": {
            "text/plain": [
              "[]"
            ]
          },
          "execution_count": 21,
          "metadata": {},
          "output_type": "execute_result"
        }
      ],
      "source": [
        "not_found = []\n",
        "\n",
        "for barrio in set(df_wellness['neighborhood'].values):\n",
        "    if barrio not in admin_wards:\n",
        "        not_found.append(barrio)\n",
        "\n",
        "not_found"
      ]
    },
    {
      "cell_type": "code",
      "execution_count": 22,
      "metadata": {},
      "outputs": [],
      "source": [
        "df = df.merge(df_wellness, on='neighborhood', how='left')"
      ]
    },
    {
      "cell_type": "code",
      "execution_count": 23,
      "metadata": {},
      "outputs": [],
      "source": [
        "df = df[df['m2']<200]"
      ]
    },
    {
      "cell_type": "code",
      "execution_count": 24,
      "metadata": {
        "colab": {
          "base_uri": "https://localhost:8080/"
        },
        "id": "y-oey5Xshrhq",
        "outputId": "7c19d0d6-18bc-4792-dc63-1c07a8030c51"
      },
      "outputs": [],
      "source": [
        "df.to_csv('../data/processed/scraped_data_cleaned_ER.csv', index=False)"
      ]
    }
  ],
  "metadata": {
    "colab": {
      "provenance": []
    },
    "kernelspec": {
      "display_name": "housing_project",
      "language": "python",
      "name": "python3"
    },
    "language_info": {
      "codemirror_mode": {
        "name": "ipython",
        "version": 3
      },
      "file_extension": ".py",
      "mimetype": "text/x-python",
      "name": "python",
      "nbconvert_exporter": "python",
      "pygments_lexer": "ipython3",
      "version": "3.9.19"
    },
    "widgets": {
      "application/vnd.jupyter.widget-state+json": {
        "0749fe76737448df80560c676f9489da": {
          "model_module": "@jupyter-widgets/controls",
          "model_module_version": "1.5.0",
          "model_name": "DescriptionStyleModel",
          "state": {
            "_model_module": "@jupyter-widgets/controls",
            "_model_module_version": "1.5.0",
            "_model_name": "DescriptionStyleModel",
            "_view_count": null,
            "_view_module": "@jupyter-widgets/base",
            "_view_module_version": "1.2.0",
            "_view_name": "StyleView",
            "description_width": ""
          }
        },
        "08944c6e0a984af6871790e02d4ce87e": {
          "model_module": "@jupyter-widgets/controls",
          "model_module_version": "1.5.0",
          "model_name": "FloatProgressModel",
          "state": {
            "_dom_classes": [],
            "_model_module": "@jupyter-widgets/controls",
            "_model_module_version": "1.5.0",
            "_model_name": "FloatProgressModel",
            "_view_count": null,
            "_view_module": "@jupyter-widgets/controls",
            "_view_module_version": "1.5.0",
            "_view_name": "ProgressView",
            "bar_style": "",
            "description": "",
            "description_tooltip": null,
            "layout": "IPY_MODEL_8e4ffbd571f0465d9b1d6d340b4fe80c",
            "max": 81,
            "min": 0,
            "orientation": "horizontal",
            "style": "IPY_MODEL_3ddedbc933784daca30b14d8a9edc721",
            "value": 81
          }
        },
        "0d81062e54f148a4a1d7f1551c22cd32": {
          "model_module": "@jupyter-widgets/controls",
          "model_module_version": "1.5.0",
          "model_name": "HBoxModel",
          "state": {
            "_dom_classes": [],
            "_model_module": "@jupyter-widgets/controls",
            "_model_module_version": "1.5.0",
            "_model_name": "HBoxModel",
            "_view_count": null,
            "_view_module": "@jupyter-widgets/controls",
            "_view_module_version": "1.5.0",
            "_view_name": "HBoxView",
            "box_style": "",
            "children": [
              "IPY_MODEL_ba5b7b044a1945789084193ce75fb3f3",
              "IPY_MODEL_08944c6e0a984af6871790e02d4ce87e",
              "IPY_MODEL_7e3a6994bd37428b8a0b3a18700d7fa9"
            ],
            "layout": "IPY_MODEL_8b2ece15295b44d3a75f1b8f5b62e51d"
          }
        },
        "3ddedbc933784daca30b14d8a9edc721": {
          "model_module": "@jupyter-widgets/controls",
          "model_module_version": "1.5.0",
          "model_name": "ProgressStyleModel",
          "state": {
            "_model_module": "@jupyter-widgets/controls",
            "_model_module_version": "1.5.0",
            "_model_name": "ProgressStyleModel",
            "_view_count": null,
            "_view_module": "@jupyter-widgets/base",
            "_view_module_version": "1.2.0",
            "_view_name": "StyleView",
            "bar_color": null,
            "description_width": ""
          }
        },
        "3fe8010746eb4c069b45b9bbbbce9549": {
          "model_module": "@jupyter-widgets/base",
          "model_module_version": "1.2.0",
          "model_name": "LayoutModel",
          "state": {
            "_model_module": "@jupyter-widgets/base",
            "_model_module_version": "1.2.0",
            "_model_name": "LayoutModel",
            "_view_count": null,
            "_view_module": "@jupyter-widgets/base",
            "_view_module_version": "1.2.0",
            "_view_name": "LayoutView",
            "align_content": null,
            "align_items": null,
            "align_self": null,
            "border": null,
            "bottom": null,
            "display": null,
            "flex": null,
            "flex_flow": null,
            "grid_area": null,
            "grid_auto_columns": null,
            "grid_auto_flow": null,
            "grid_auto_rows": null,
            "grid_column": null,
            "grid_gap": null,
            "grid_row": null,
            "grid_template_areas": null,
            "grid_template_columns": null,
            "grid_template_rows": null,
            "height": null,
            "justify_content": null,
            "justify_items": null,
            "left": null,
            "margin": null,
            "max_height": null,
            "max_width": null,
            "min_height": null,
            "min_width": null,
            "object_fit": null,
            "object_position": null,
            "order": null,
            "overflow": null,
            "overflow_x": null,
            "overflow_y": null,
            "padding": null,
            "right": null,
            "top": null,
            "visibility": null,
            "width": null
          }
        },
        "40df31e8d904437da5c3b7ea4c5f1555": {
          "model_module": "@jupyter-widgets/controls",
          "model_module_version": "1.5.0",
          "model_name": "DescriptionStyleModel",
          "state": {
            "_model_module": "@jupyter-widgets/controls",
            "_model_module_version": "1.5.0",
            "_model_name": "DescriptionStyleModel",
            "_view_count": null,
            "_view_module": "@jupyter-widgets/base",
            "_view_module_version": "1.2.0",
            "_view_name": "StyleView",
            "description_width": ""
          }
        },
        "50763888d6ff493da20378f69d44a351": {
          "model_module": "@jupyter-widgets/controls",
          "model_module_version": "1.5.0",
          "model_name": "HTMLModel",
          "state": {
            "_dom_classes": [],
            "_model_module": "@jupyter-widgets/controls",
            "_model_module_version": "1.5.0",
            "_model_name": "HTMLModel",
            "_view_count": null,
            "_view_module": "@jupyter-widgets/controls",
            "_view_module_version": "1.5.0",
            "_view_name": "HTMLView",
            "description": "",
            "description_tooltip": null,
            "layout": "IPY_MODEL_9e4d0c164f0644549bfe398337d41740",
            "placeholder": "​",
            "style": "IPY_MODEL_40df31e8d904437da5c3b7ea4c5f1555",
            "value": " 4/4 [02:14&lt;00:00, 31.79s/it]"
          }
        },
        "5e692fe92d484df8a57837810bb0673a": {
          "model_module": "@jupyter-widgets/controls",
          "model_module_version": "1.5.0",
          "model_name": "DescriptionStyleModel",
          "state": {
            "_model_module": "@jupyter-widgets/controls",
            "_model_module_version": "1.5.0",
            "_model_name": "DescriptionStyleModel",
            "_view_count": null,
            "_view_module": "@jupyter-widgets/base",
            "_view_module_version": "1.2.0",
            "_view_name": "StyleView",
            "description_width": ""
          }
        },
        "787f58b2cbd2442094c1642d09b34641": {
          "model_module": "@jupyter-widgets/controls",
          "model_module_version": "1.5.0",
          "model_name": "FloatProgressModel",
          "state": {
            "_dom_classes": [],
            "_model_module": "@jupyter-widgets/controls",
            "_model_module_version": "1.5.0",
            "_model_name": "FloatProgressModel",
            "_view_count": null,
            "_view_module": "@jupyter-widgets/controls",
            "_view_module_version": "1.5.0",
            "_view_name": "ProgressView",
            "bar_style": "",
            "description": "",
            "description_tooltip": null,
            "layout": "IPY_MODEL_dbf730403f6d434e95ff6626be19931b",
            "max": 4,
            "min": 0,
            "orientation": "horizontal",
            "style": "IPY_MODEL_c026ddbea2344a47abfda168ca99527b",
            "value": 4
          }
        },
        "7e3a6994bd37428b8a0b3a18700d7fa9": {
          "model_module": "@jupyter-widgets/controls",
          "model_module_version": "1.5.0",
          "model_name": "HTMLModel",
          "state": {
            "_dom_classes": [],
            "_model_module": "@jupyter-widgets/controls",
            "_model_module_version": "1.5.0",
            "_model_name": "HTMLModel",
            "_view_count": null,
            "_view_module": "@jupyter-widgets/controls",
            "_view_module_version": "1.5.0",
            "_view_name": "HTMLView",
            "description": "",
            "description_tooltip": null,
            "layout": "IPY_MODEL_3fe8010746eb4c069b45b9bbbbce9549",
            "placeholder": "​",
            "style": "IPY_MODEL_5e692fe92d484df8a57837810bb0673a",
            "value": " 81/81 [07:55&lt;00:00,  5.48s/it]"
          }
        },
        "8124ecff8e644a70ab18c044eb04cd18": {
          "model_module": "@jupyter-widgets/base",
          "model_module_version": "1.2.0",
          "model_name": "LayoutModel",
          "state": {
            "_model_module": "@jupyter-widgets/base",
            "_model_module_version": "1.2.0",
            "_model_name": "LayoutModel",
            "_view_count": null,
            "_view_module": "@jupyter-widgets/base",
            "_view_module_version": "1.2.0",
            "_view_name": "LayoutView",
            "align_content": null,
            "align_items": null,
            "align_self": null,
            "border": null,
            "bottom": null,
            "display": null,
            "flex": null,
            "flex_flow": null,
            "grid_area": null,
            "grid_auto_columns": null,
            "grid_auto_flow": null,
            "grid_auto_rows": null,
            "grid_column": null,
            "grid_gap": null,
            "grid_row": null,
            "grid_template_areas": null,
            "grid_template_columns": null,
            "grid_template_rows": null,
            "height": null,
            "justify_content": null,
            "justify_items": null,
            "left": null,
            "margin": null,
            "max_height": null,
            "max_width": null,
            "min_height": null,
            "min_width": null,
            "object_fit": null,
            "object_position": null,
            "order": null,
            "overflow": null,
            "overflow_x": null,
            "overflow_y": null,
            "padding": null,
            "right": null,
            "top": null,
            "visibility": "hidden",
            "width": null
          }
        },
        "88c776c403b9479e8c68b0476751c724": {
          "model_module": "@jupyter-widgets/controls",
          "model_module_version": "1.5.0",
          "model_name": "DescriptionStyleModel",
          "state": {
            "_model_module": "@jupyter-widgets/controls",
            "_model_module_version": "1.5.0",
            "_model_name": "DescriptionStyleModel",
            "_view_count": null,
            "_view_module": "@jupyter-widgets/base",
            "_view_module_version": "1.2.0",
            "_view_name": "StyleView",
            "description_width": ""
          }
        },
        "8b2ece15295b44d3a75f1b8f5b62e51d": {
          "model_module": "@jupyter-widgets/base",
          "model_module_version": "1.2.0",
          "model_name": "LayoutModel",
          "state": {
            "_model_module": "@jupyter-widgets/base",
            "_model_module_version": "1.2.0",
            "_model_name": "LayoutModel",
            "_view_count": null,
            "_view_module": "@jupyter-widgets/base",
            "_view_module_version": "1.2.0",
            "_view_name": "LayoutView",
            "align_content": null,
            "align_items": null,
            "align_self": null,
            "border": null,
            "bottom": null,
            "display": null,
            "flex": null,
            "flex_flow": null,
            "grid_area": null,
            "grid_auto_columns": null,
            "grid_auto_flow": null,
            "grid_auto_rows": null,
            "grid_column": null,
            "grid_gap": null,
            "grid_row": null,
            "grid_template_areas": null,
            "grid_template_columns": null,
            "grid_template_rows": null,
            "height": null,
            "justify_content": null,
            "justify_items": null,
            "left": null,
            "margin": null,
            "max_height": null,
            "max_width": null,
            "min_height": null,
            "min_width": null,
            "object_fit": null,
            "object_position": null,
            "order": null,
            "overflow": null,
            "overflow_x": null,
            "overflow_y": null,
            "padding": null,
            "right": null,
            "top": null,
            "visibility": "hidden",
            "width": null
          }
        },
        "8e4ffbd571f0465d9b1d6d340b4fe80c": {
          "model_module": "@jupyter-widgets/base",
          "model_module_version": "1.2.0",
          "model_name": "LayoutModel",
          "state": {
            "_model_module": "@jupyter-widgets/base",
            "_model_module_version": "1.2.0",
            "_model_name": "LayoutModel",
            "_view_count": null,
            "_view_module": "@jupyter-widgets/base",
            "_view_module_version": "1.2.0",
            "_view_name": "LayoutView",
            "align_content": null,
            "align_items": null,
            "align_self": null,
            "border": null,
            "bottom": null,
            "display": null,
            "flex": null,
            "flex_flow": null,
            "grid_area": null,
            "grid_auto_columns": null,
            "grid_auto_flow": null,
            "grid_auto_rows": null,
            "grid_column": null,
            "grid_gap": null,
            "grid_row": null,
            "grid_template_areas": null,
            "grid_template_columns": null,
            "grid_template_rows": null,
            "height": null,
            "justify_content": null,
            "justify_items": null,
            "left": null,
            "margin": null,
            "max_height": null,
            "max_width": null,
            "min_height": null,
            "min_width": null,
            "object_fit": null,
            "object_position": null,
            "order": null,
            "overflow": null,
            "overflow_x": null,
            "overflow_y": null,
            "padding": null,
            "right": null,
            "top": null,
            "visibility": null,
            "width": null
          }
        },
        "92ca8dd3893e45df831eba72a4b9dbc9": {
          "model_module": "@jupyter-widgets/base",
          "model_module_version": "1.2.0",
          "model_name": "LayoutModel",
          "state": {
            "_model_module": "@jupyter-widgets/base",
            "_model_module_version": "1.2.0",
            "_model_name": "LayoutModel",
            "_view_count": null,
            "_view_module": "@jupyter-widgets/base",
            "_view_module_version": "1.2.0",
            "_view_name": "LayoutView",
            "align_content": null,
            "align_items": null,
            "align_self": null,
            "border": null,
            "bottom": null,
            "display": null,
            "flex": null,
            "flex_flow": null,
            "grid_area": null,
            "grid_auto_columns": null,
            "grid_auto_flow": null,
            "grid_auto_rows": null,
            "grid_column": null,
            "grid_gap": null,
            "grid_row": null,
            "grid_template_areas": null,
            "grid_template_columns": null,
            "grid_template_rows": null,
            "height": null,
            "justify_content": null,
            "justify_items": null,
            "left": null,
            "margin": null,
            "max_height": null,
            "max_width": null,
            "min_height": null,
            "min_width": null,
            "object_fit": null,
            "object_position": null,
            "order": null,
            "overflow": null,
            "overflow_x": null,
            "overflow_y": null,
            "padding": null,
            "right": null,
            "top": null,
            "visibility": null,
            "width": null
          }
        },
        "9e4d0c164f0644549bfe398337d41740": {
          "model_module": "@jupyter-widgets/base",
          "model_module_version": "1.2.0",
          "model_name": "LayoutModel",
          "state": {
            "_model_module": "@jupyter-widgets/base",
            "_model_module_version": "1.2.0",
            "_model_name": "LayoutModel",
            "_view_count": null,
            "_view_module": "@jupyter-widgets/base",
            "_view_module_version": "1.2.0",
            "_view_name": "LayoutView",
            "align_content": null,
            "align_items": null,
            "align_self": null,
            "border": null,
            "bottom": null,
            "display": null,
            "flex": null,
            "flex_flow": null,
            "grid_area": null,
            "grid_auto_columns": null,
            "grid_auto_flow": null,
            "grid_auto_rows": null,
            "grid_column": null,
            "grid_gap": null,
            "grid_row": null,
            "grid_template_areas": null,
            "grid_template_columns": null,
            "grid_template_rows": null,
            "height": null,
            "justify_content": null,
            "justify_items": null,
            "left": null,
            "margin": null,
            "max_height": null,
            "max_width": null,
            "min_height": null,
            "min_width": null,
            "object_fit": null,
            "object_position": null,
            "order": null,
            "overflow": null,
            "overflow_x": null,
            "overflow_y": null,
            "padding": null,
            "right": null,
            "top": null,
            "visibility": null,
            "width": null
          }
        },
        "ba5b7b044a1945789084193ce75fb3f3": {
          "model_module": "@jupyter-widgets/controls",
          "model_module_version": "1.5.0",
          "model_name": "HTMLModel",
          "state": {
            "_dom_classes": [],
            "_model_module": "@jupyter-widgets/controls",
            "_model_module_version": "1.5.0",
            "_model_name": "HTMLModel",
            "_view_count": null,
            "_view_module": "@jupyter-widgets/controls",
            "_view_module_version": "1.5.0",
            "_view_name": "HTMLView",
            "description": "",
            "description_tooltip": null,
            "layout": "IPY_MODEL_ee4e204c155244299c1901acf04531e4",
            "placeholder": "​",
            "style": "IPY_MODEL_0749fe76737448df80560c676f9489da",
            "value": "Processing: 100%"
          }
        },
        "c026ddbea2344a47abfda168ca99527b": {
          "model_module": "@jupyter-widgets/controls",
          "model_module_version": "1.5.0",
          "model_name": "ProgressStyleModel",
          "state": {
            "_model_module": "@jupyter-widgets/controls",
            "_model_module_version": "1.5.0",
            "_model_name": "ProgressStyleModel",
            "_view_count": null,
            "_view_module": "@jupyter-widgets/base",
            "_view_module_version": "1.2.0",
            "_view_name": "StyleView",
            "bar_color": null,
            "description_width": ""
          }
        },
        "ce235627f91b4dd48071e232633775e7": {
          "model_module": "@jupyter-widgets/controls",
          "model_module_version": "1.5.0",
          "model_name": "HBoxModel",
          "state": {
            "_dom_classes": [],
            "_model_module": "@jupyter-widgets/controls",
            "_model_module_version": "1.5.0",
            "_model_name": "HBoxModel",
            "_view_count": null,
            "_view_module": "@jupyter-widgets/controls",
            "_view_module_version": "1.5.0",
            "_view_name": "HBoxView",
            "box_style": "",
            "children": [
              "IPY_MODEL_d5826c7b98584fd4b40fa0d0ec9d74bd",
              "IPY_MODEL_787f58b2cbd2442094c1642d09b34641",
              "IPY_MODEL_50763888d6ff493da20378f69d44a351"
            ],
            "layout": "IPY_MODEL_8124ecff8e644a70ab18c044eb04cd18"
          }
        },
        "d5826c7b98584fd4b40fa0d0ec9d74bd": {
          "model_module": "@jupyter-widgets/controls",
          "model_module_version": "1.5.0",
          "model_name": "HTMLModel",
          "state": {
            "_dom_classes": [],
            "_model_module": "@jupyter-widgets/controls",
            "_model_module_version": "1.5.0",
            "_model_name": "HTMLModel",
            "_view_count": null,
            "_view_module": "@jupyter-widgets/controls",
            "_view_module_version": "1.5.0",
            "_view_name": "HTMLView",
            "description": "",
            "description_tooltip": null,
            "layout": "IPY_MODEL_92ca8dd3893e45df831eba72a4b9dbc9",
            "placeholder": "​",
            "style": "IPY_MODEL_88c776c403b9479e8c68b0476751c724",
            "value": "Processing: 100%"
          }
        },
        "dbf730403f6d434e95ff6626be19931b": {
          "model_module": "@jupyter-widgets/base",
          "model_module_version": "1.2.0",
          "model_name": "LayoutModel",
          "state": {
            "_model_module": "@jupyter-widgets/base",
            "_model_module_version": "1.2.0",
            "_model_name": "LayoutModel",
            "_view_count": null,
            "_view_module": "@jupyter-widgets/base",
            "_view_module_version": "1.2.0",
            "_view_name": "LayoutView",
            "align_content": null,
            "align_items": null,
            "align_self": null,
            "border": null,
            "bottom": null,
            "display": null,
            "flex": null,
            "flex_flow": null,
            "grid_area": null,
            "grid_auto_columns": null,
            "grid_auto_flow": null,
            "grid_auto_rows": null,
            "grid_column": null,
            "grid_gap": null,
            "grid_row": null,
            "grid_template_areas": null,
            "grid_template_columns": null,
            "grid_template_rows": null,
            "height": null,
            "justify_content": null,
            "justify_items": null,
            "left": null,
            "margin": null,
            "max_height": null,
            "max_width": null,
            "min_height": null,
            "min_width": null,
            "object_fit": null,
            "object_position": null,
            "order": null,
            "overflow": null,
            "overflow_x": null,
            "overflow_y": null,
            "padding": null,
            "right": null,
            "top": null,
            "visibility": null,
            "width": null
          }
        },
        "ee4e204c155244299c1901acf04531e4": {
          "model_module": "@jupyter-widgets/base",
          "model_module_version": "1.2.0",
          "model_name": "LayoutModel",
          "state": {
            "_model_module": "@jupyter-widgets/base",
            "_model_module_version": "1.2.0",
            "_model_name": "LayoutModel",
            "_view_count": null,
            "_view_module": "@jupyter-widgets/base",
            "_view_module_version": "1.2.0",
            "_view_name": "LayoutView",
            "align_content": null,
            "align_items": null,
            "align_self": null,
            "border": null,
            "bottom": null,
            "display": null,
            "flex": null,
            "flex_flow": null,
            "grid_area": null,
            "grid_auto_columns": null,
            "grid_auto_flow": null,
            "grid_auto_rows": null,
            "grid_column": null,
            "grid_gap": null,
            "grid_row": null,
            "grid_template_areas": null,
            "grid_template_columns": null,
            "grid_template_rows": null,
            "height": null,
            "justify_content": null,
            "justify_items": null,
            "left": null,
            "margin": null,
            "max_height": null,
            "max_width": null,
            "min_height": null,
            "min_width": null,
            "object_fit": null,
            "object_position": null,
            "order": null,
            "overflow": null,
            "overflow_x": null,
            "overflow_y": null,
            "padding": null,
            "right": null,
            "top": null,
            "visibility": null,
            "width": null
          }
        }
      }
    }
  },
  "nbformat": 4,
  "nbformat_minor": 0
}
